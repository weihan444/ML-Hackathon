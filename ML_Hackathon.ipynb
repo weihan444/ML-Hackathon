{
  "nbformat": 4,
  "nbformat_minor": 0,
  "metadata": {
    "colab": {
      "name": "ML Hackathon.ipynb",
      "provenance": [],
      "collapsed_sections": [],
      "authorship_tag": "ABX9TyPE1wT24IaYVNwkGVW/OGEJ",
      "include_colab_link": true
    },
    "kernelspec": {
      "name": "python3",
      "display_name": "Python 3"
    },
    "language_info": {
      "name": "python"
    }
  },
  "cells": [
    {
      "cell_type": "markdown",
      "metadata": {
        "id": "view-in-github",
        "colab_type": "text"
      },
      "source": [
        "<a href=\"https://colab.research.google.com/github/weihan444/ML-Hackathon/blob/main/ML_Hackathon.ipynb\" target=\"_parent\"><img src=\"https://colab.research.google.com/assets/colab-badge.svg\" alt=\"Open In Colab\"/></a>"
      ]
    },
    {
      "cell_type": "markdown",
      "source": [
        ""
      ],
      "metadata": {
        "id": "uU8_NXCl0wyV"
      }
    },
    {
      "cell_type": "markdown",
      "source": [
        "Starting out"
      ],
      "metadata": {
        "id": "yU3uFR_00qeS"
      }
    },
    {
      "cell_type": "code",
      "source": [
        "# import tensorflow"
      ],
      "metadata": {
        "id": "ey1mU1rC0s78"
      },
      "execution_count": null,
      "outputs": []
    }
  ]
}