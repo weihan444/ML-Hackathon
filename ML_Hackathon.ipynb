{
  "cells": [
    {
      "cell_type": "markdown",
      "metadata": {
        "colab_type": "text",
        "id": "view-in-github"
      },
      "source": [
        "<a href=\"https://colab.research.google.com/github/weihanyau/ML-Hackathon/blob/New-Data-Set/ML_Hackathon.ipynb\" target=\"_parent\"><img src=\"https://colab.research.google.com/assets/colab-badge.svg\" alt=\"Open In Colab\"/></a>"
      ]
    },
    {
      "cell_type": "markdown",
      "metadata": {
        "id": "yU3uFR_00qeS"
      },
      "source": [
        "# Import required libraries"
      ]
    },
    {
      "cell_type": "code",
      "execution_count": 201,
      "metadata": {
        "id": "ey1mU1rC0s78"
      },
      "outputs": [],
      "source": [
        "import numpy as np\n",
        "import pandas as pd \n",
        "from matplotlib import pyplot as plt\n",
        "import seaborn as sns\n"
      ]
    },
    {
      "cell_type": "markdown",
      "metadata": {
        "id": "k9ebc_6PsTOc"
      },
      "source": [
        "Read the dataset from the github repository and display the dataset overview \n"
      ]
    },
    {
      "cell_type": "code",
      "execution_count": 202,
      "metadata": {
        "colab": {
          "base_uri": "https://localhost:8080/",
          "height": 235
        },
        "id": "ELwdTBtJqYPR",
        "outputId": "8ccd361c-b59b-4270-99a2-6d224facca7e"
      },
      "outputs": [
        {
          "data": {
            "text/html": [
              "<div>\n",
              "<style scoped>\n",
              "    .dataframe tbody tr th:only-of-type {\n",
              "        vertical-align: middle;\n",
              "    }\n",
              "\n",
              "    .dataframe tbody tr th {\n",
              "        vertical-align: top;\n",
              "    }\n",
              "\n",
              "    .dataframe thead th {\n",
              "        text-align: right;\n",
              "    }\n",
              "</style>\n",
              "<table border=\"1\" class=\"dataframe\">\n",
              "  <thead>\n",
              "    <tr style=\"text-align: right;\">\n",
              "      <th></th>\n",
              "      <th>Q1A</th>\n",
              "      <th>Q1I</th>\n",
              "      <th>Q1E</th>\n",
              "      <th>Q2A</th>\n",
              "      <th>Q2I</th>\n",
              "      <th>Q2E</th>\n",
              "      <th>Q3A</th>\n",
              "      <th>Q3I</th>\n",
              "      <th>Q3E</th>\n",
              "      <th>Q4A</th>\n",
              "      <th>...</th>\n",
              "      <th>screensize</th>\n",
              "      <th>uniquenetworklocation</th>\n",
              "      <th>hand</th>\n",
              "      <th>religion</th>\n",
              "      <th>orientation</th>\n",
              "      <th>race</th>\n",
              "      <th>voted</th>\n",
              "      <th>married</th>\n",
              "      <th>familysize</th>\n",
              "      <th>major</th>\n",
              "    </tr>\n",
              "  </thead>\n",
              "  <tbody>\n",
              "    <tr>\n",
              "      <th>0</th>\n",
              "      <td>4</td>\n",
              "      <td>28</td>\n",
              "      <td>3890</td>\n",
              "      <td>4</td>\n",
              "      <td>25</td>\n",
              "      <td>2122</td>\n",
              "      <td>2</td>\n",
              "      <td>16</td>\n",
              "      <td>1944</td>\n",
              "      <td>4</td>\n",
              "      <td>...</td>\n",
              "      <td>1</td>\n",
              "      <td>1</td>\n",
              "      <td>1</td>\n",
              "      <td>12</td>\n",
              "      <td>1</td>\n",
              "      <td>10</td>\n",
              "      <td>2</td>\n",
              "      <td>1</td>\n",
              "      <td>2</td>\n",
              "      <td>NaN</td>\n",
              "    </tr>\n",
              "    <tr>\n",
              "      <th>1</th>\n",
              "      <td>4</td>\n",
              "      <td>2</td>\n",
              "      <td>8118</td>\n",
              "      <td>1</td>\n",
              "      <td>36</td>\n",
              "      <td>2890</td>\n",
              "      <td>2</td>\n",
              "      <td>35</td>\n",
              "      <td>4777</td>\n",
              "      <td>3</td>\n",
              "      <td>...</td>\n",
              "      <td>2</td>\n",
              "      <td>1</td>\n",
              "      <td>2</td>\n",
              "      <td>7</td>\n",
              "      <td>0</td>\n",
              "      <td>70</td>\n",
              "      <td>2</td>\n",
              "      <td>1</td>\n",
              "      <td>4</td>\n",
              "      <td>NaN</td>\n",
              "    </tr>\n",
              "    <tr>\n",
              "      <th>2</th>\n",
              "      <td>3</td>\n",
              "      <td>7</td>\n",
              "      <td>5784</td>\n",
              "      <td>1</td>\n",
              "      <td>33</td>\n",
              "      <td>4373</td>\n",
              "      <td>4</td>\n",
              "      <td>41</td>\n",
              "      <td>3242</td>\n",
              "      <td>1</td>\n",
              "      <td>...</td>\n",
              "      <td>2</td>\n",
              "      <td>1</td>\n",
              "      <td>1</td>\n",
              "      <td>4</td>\n",
              "      <td>3</td>\n",
              "      <td>60</td>\n",
              "      <td>1</td>\n",
              "      <td>1</td>\n",
              "      <td>3</td>\n",
              "      <td>NaN</td>\n",
              "    </tr>\n",
              "    <tr>\n",
              "      <th>3</th>\n",
              "      <td>2</td>\n",
              "      <td>23</td>\n",
              "      <td>5081</td>\n",
              "      <td>3</td>\n",
              "      <td>11</td>\n",
              "      <td>6837</td>\n",
              "      <td>2</td>\n",
              "      <td>37</td>\n",
              "      <td>5521</td>\n",
              "      <td>1</td>\n",
              "      <td>...</td>\n",
              "      <td>2</td>\n",
              "      <td>1</td>\n",
              "      <td>2</td>\n",
              "      <td>4</td>\n",
              "      <td>5</td>\n",
              "      <td>70</td>\n",
              "      <td>2</td>\n",
              "      <td>1</td>\n",
              "      <td>5</td>\n",
              "      <td>biology</td>\n",
              "    </tr>\n",
              "    <tr>\n",
              "      <th>4</th>\n",
              "      <td>2</td>\n",
              "      <td>36</td>\n",
              "      <td>3215</td>\n",
              "      <td>2</td>\n",
              "      <td>13</td>\n",
              "      <td>7731</td>\n",
              "      <td>3</td>\n",
              "      <td>5</td>\n",
              "      <td>4156</td>\n",
              "      <td>4</td>\n",
              "      <td>...</td>\n",
              "      <td>2</td>\n",
              "      <td>2</td>\n",
              "      <td>3</td>\n",
              "      <td>10</td>\n",
              "      <td>1</td>\n",
              "      <td>10</td>\n",
              "      <td>2</td>\n",
              "      <td>1</td>\n",
              "      <td>4</td>\n",
              "      <td>Psychology</td>\n",
              "    </tr>\n",
              "  </tbody>\n",
              "</table>\n",
              "<p>5 rows × 172 columns</p>\n",
              "</div>"
            ],
            "text/plain": [
              "   Q1A  Q1I   Q1E  Q2A  Q2I   Q2E  Q3A  Q3I   Q3E  Q4A  ...  screensize  \\\n",
              "0    4   28  3890    4   25  2122    2   16  1944    4  ...           1   \n",
              "1    4    2  8118    1   36  2890    2   35  4777    3  ...           2   \n",
              "2    3    7  5784    1   33  4373    4   41  3242    1  ...           2   \n",
              "3    2   23  5081    3   11  6837    2   37  5521    1  ...           2   \n",
              "4    2   36  3215    2   13  7731    3    5  4156    4  ...           2   \n",
              "\n",
              "   uniquenetworklocation  hand  religion  orientation  race  voted  married  \\\n",
              "0                      1     1        12            1    10      2        1   \n",
              "1                      1     2         7            0    70      2        1   \n",
              "2                      1     1         4            3    60      1        1   \n",
              "3                      1     2         4            5    70      2        1   \n",
              "4                      2     3        10            1    10      2        1   \n",
              "\n",
              "   familysize       major  \n",
              "0           2         NaN  \n",
              "1           4         NaN  \n",
              "2           3         NaN  \n",
              "3           5     biology  \n",
              "4           4  Psychology  \n",
              "\n",
              "[5 rows x 172 columns]"
            ]
          },
          "execution_count": 202,
          "metadata": {},
          "output_type": "execute_result"
        }
      ],
      "source": [
        "data_set=pd.read_csv('https://raw.githubusercontent.com/weihanyau/ML-Hackathon/main/data.csv',delimiter='\\t')\n",
        "data_set.head()"
      ]
    },
    {
      "cell_type": "markdown",
      "metadata": {
        "id": "KJIbCgV5s0hm"
      },
      "source": [
        "Remove the columns that are mentioned and related about the time and position. \n",
        "and also remove the columns which are:\n",
        "\n",
        "1.  Testelapse - Total time spent on the DASS\n",
        "2.  Introelapse - Total time spent on the introduction page \n",
        "3. Testelapse - Total time spent answering the rest of the demographic and survery questions \n",
        "\n",
        "\n",
        "The Ten Item Personality Inventory(TIPI) items were rated \"I see myself as:\" _ such that\n",
        "\n",
        "1 = Disagree strongly\n",
        "2 = Disagree moderately\n",
        "3 = Disagree a little\n",
        "4 = Neither agree nor disagree\n",
        "5 = Agree a little\n",
        "6 = Agree moderately\n",
        "7 = Agree strongly\n",
        "\n",
        "Rename all the TIPI into TIPI1 Extraverted-enthusiastic, Critical-quarrelsome, Dependable-self_disciplined, Anxious-easily upset, Open to new experiences-complex, Reserved-quiet, Sympathetic-warm, Disorganized-careless, Calm-emotionally_stable, Conventional-uncreative respectively. "
      ]
    },
    {
      "cell_type": "code",
      "execution_count": 203,
      "metadata": {
        "colab": {
          "base_uri": "https://localhost:8080/"
        },
        "id": "txyJFr8Lrrr9",
        "outputId": "87a8afd3-72ad-4f10-e82d-e018e68fce30"
      },
      "outputs": [
        {
          "name": "stdout",
          "output_type": "stream",
          "text": [
            "Shape (39775, 68)\n",
            "Attributes Index(['Q1A', 'Q2A', 'Q3A', 'Q4A', 'Q5A', 'Q6A', 'Q7A', 'Q8A', 'Q9A', 'Q10A',\n",
            "       'Q11A', 'Q12A', 'Q13A', 'Q14A', 'Q15A', 'Q16A', 'Q17A', 'Q18A', 'Q19A',\n",
            "       'Q20A', 'Q21A', 'Q22A', 'Q23A', 'Q24A', 'Q25A', 'Q26A', 'Q27A', 'Q28A',\n",
            "       'Q29A', 'Q30A', 'Q31A', 'Q32A', 'Q33A', 'Q34A', 'Q35A', 'Q36A', 'Q37A',\n",
            "       'Q38A', 'Q39A', 'Q40A', 'Q41A', 'Q42A', 'country',\n",
            "       'Extraverted-enthusiastic', 'Critical-quarrelsome',\n",
            "       'Dependable-self_disciplined', 'Anxious-easily upset',\n",
            "       'Open to new experiences-complex', 'Reserved-quiet', 'Sympathetic-warm',\n",
            "       'Disorganized-careless', 'Calm-emotionally_stable',\n",
            "       'Conventional-uncreative', 'education', 'urban', 'gender', 'engnat',\n",
            "       'age', 'screensize', 'uniquenetworklocation', 'hand', 'religion',\n",
            "       'orientation', 'race', 'voted', 'married', 'familysize', 'major'],\n",
            "      dtype='object')\n"
          ]
        }
      ],
      "source": [
        "Data_0 = data_set.copy()\n",
        "Data_0['major'] = Data_0['major'].replace(np.nan,'No Degree')\n",
        "time = [i for i in Data_0.iloc[:,0:126] if  'E' in i] \n",
        "position = [i for i in Data_0.iloc[:,0:126] if  'I' in i]\n",
        "Data_0 = Data_0.drop(position,axis=1)\n",
        "Data_0 = Data_0.drop(time,axis=1)\n",
        "Data_0 = Data_0.drop(Data_0.iloc[:,43:47],axis=1)\n",
        "Data_1 = Data_0.copy()\n",
        "Data_1 = Data_1.drop(Data_1.iloc[:,53:69],axis=1)\n",
        "Data_1 = Data_1.replace(to_replace=0,value=3)\n",
        "Data_1 = Data_1.rename(columns={'TIPI1':'Extraverted-enthusiastic','TIPI2':'Critical-quarrelsome',\n",
        "                            'TIPI3':'Dependable-self_disciplined','TIPI4':'Anxious-easily upset',\n",
        "                            'TIPI5':'Open to new experiences-complex','TIPI6':'Reserved-quiet',\n",
        "                            'TIPI7':'Sympathetic-warm','TIPI8':'Disorganized-careless','TIPI9':'Calm-emotionally_stable',\n",
        "                            'TIPI10':'Conventional-uncreative'})\n",
        "\n",
        "\n",
        "print('Shape',Data_1.shape)\n",
        "print('Attributes',Data_1.columns)"
      ]
    },
    {
      "cell_type": "markdown",
      "metadata": {
        "id": "14iXFvBzszdL"
      },
      "source": [
        "Display the dataset again"
      ]
    },
    {
      "cell_type": "code",
      "execution_count": 204,
      "metadata": {
        "colab": {
          "base_uri": "https://localhost:8080/",
          "height": 235
        },
        "id": "yk9-Ypo6vBF5",
        "outputId": "c0164cc0-2766-4161-b025-82fa2557fdba"
      },
      "outputs": [
        {
          "data": {
            "text/html": [
              "<div>\n",
              "<style scoped>\n",
              "    .dataframe tbody tr th:only-of-type {\n",
              "        vertical-align: middle;\n",
              "    }\n",
              "\n",
              "    .dataframe tbody tr th {\n",
              "        vertical-align: top;\n",
              "    }\n",
              "\n",
              "    .dataframe thead th {\n",
              "        text-align: right;\n",
              "    }\n",
              "</style>\n",
              "<table border=\"1\" class=\"dataframe\">\n",
              "  <thead>\n",
              "    <tr style=\"text-align: right;\">\n",
              "      <th></th>\n",
              "      <th>Q1A</th>\n",
              "      <th>Q2A</th>\n",
              "      <th>Q3A</th>\n",
              "      <th>Q4A</th>\n",
              "      <th>Q5A</th>\n",
              "      <th>Q6A</th>\n",
              "      <th>Q7A</th>\n",
              "      <th>Q8A</th>\n",
              "      <th>Q9A</th>\n",
              "      <th>Q10A</th>\n",
              "      <th>...</th>\n",
              "      <th>screensize</th>\n",
              "      <th>uniquenetworklocation</th>\n",
              "      <th>hand</th>\n",
              "      <th>religion</th>\n",
              "      <th>orientation</th>\n",
              "      <th>race</th>\n",
              "      <th>voted</th>\n",
              "      <th>married</th>\n",
              "      <th>familysize</th>\n",
              "      <th>major</th>\n",
              "    </tr>\n",
              "  </thead>\n",
              "  <tbody>\n",
              "    <tr>\n",
              "      <th>0</th>\n",
              "      <td>4</td>\n",
              "      <td>4</td>\n",
              "      <td>2</td>\n",
              "      <td>4</td>\n",
              "      <td>4</td>\n",
              "      <td>4</td>\n",
              "      <td>4</td>\n",
              "      <td>4</td>\n",
              "      <td>2</td>\n",
              "      <td>1</td>\n",
              "      <td>...</td>\n",
              "      <td>1</td>\n",
              "      <td>1</td>\n",
              "      <td>1</td>\n",
              "      <td>12</td>\n",
              "      <td>1</td>\n",
              "      <td>10</td>\n",
              "      <td>2</td>\n",
              "      <td>1</td>\n",
              "      <td>2</td>\n",
              "      <td>No Degree</td>\n",
              "    </tr>\n",
              "    <tr>\n",
              "      <th>1</th>\n",
              "      <td>4</td>\n",
              "      <td>1</td>\n",
              "      <td>2</td>\n",
              "      <td>3</td>\n",
              "      <td>4</td>\n",
              "      <td>4</td>\n",
              "      <td>3</td>\n",
              "      <td>4</td>\n",
              "      <td>3</td>\n",
              "      <td>2</td>\n",
              "      <td>...</td>\n",
              "      <td>2</td>\n",
              "      <td>1</td>\n",
              "      <td>2</td>\n",
              "      <td>7</td>\n",
              "      <td>3</td>\n",
              "      <td>70</td>\n",
              "      <td>2</td>\n",
              "      <td>1</td>\n",
              "      <td>4</td>\n",
              "      <td>No Degree</td>\n",
              "    </tr>\n",
              "    <tr>\n",
              "      <th>2</th>\n",
              "      <td>3</td>\n",
              "      <td>1</td>\n",
              "      <td>4</td>\n",
              "      <td>1</td>\n",
              "      <td>4</td>\n",
              "      <td>3</td>\n",
              "      <td>1</td>\n",
              "      <td>3</td>\n",
              "      <td>2</td>\n",
              "      <td>4</td>\n",
              "      <td>...</td>\n",
              "      <td>2</td>\n",
              "      <td>1</td>\n",
              "      <td>1</td>\n",
              "      <td>4</td>\n",
              "      <td>3</td>\n",
              "      <td>60</td>\n",
              "      <td>1</td>\n",
              "      <td>1</td>\n",
              "      <td>3</td>\n",
              "      <td>No Degree</td>\n",
              "    </tr>\n",
              "    <tr>\n",
              "      <th>3</th>\n",
              "      <td>2</td>\n",
              "      <td>3</td>\n",
              "      <td>2</td>\n",
              "      <td>1</td>\n",
              "      <td>3</td>\n",
              "      <td>3</td>\n",
              "      <td>4</td>\n",
              "      <td>2</td>\n",
              "      <td>3</td>\n",
              "      <td>3</td>\n",
              "      <td>...</td>\n",
              "      <td>2</td>\n",
              "      <td>1</td>\n",
              "      <td>2</td>\n",
              "      <td>4</td>\n",
              "      <td>5</td>\n",
              "      <td>70</td>\n",
              "      <td>2</td>\n",
              "      <td>1</td>\n",
              "      <td>5</td>\n",
              "      <td>biology</td>\n",
              "    </tr>\n",
              "    <tr>\n",
              "      <th>4</th>\n",
              "      <td>2</td>\n",
              "      <td>2</td>\n",
              "      <td>3</td>\n",
              "      <td>4</td>\n",
              "      <td>4</td>\n",
              "      <td>2</td>\n",
              "      <td>4</td>\n",
              "      <td>4</td>\n",
              "      <td>4</td>\n",
              "      <td>3</td>\n",
              "      <td>...</td>\n",
              "      <td>2</td>\n",
              "      <td>2</td>\n",
              "      <td>3</td>\n",
              "      <td>10</td>\n",
              "      <td>1</td>\n",
              "      <td>10</td>\n",
              "      <td>2</td>\n",
              "      <td>1</td>\n",
              "      <td>4</td>\n",
              "      <td>Psychology</td>\n",
              "    </tr>\n",
              "  </tbody>\n",
              "</table>\n",
              "<p>5 rows × 68 columns</p>\n",
              "</div>"
            ],
            "text/plain": [
              "   Q1A  Q2A  Q3A  Q4A  Q5A  Q6A  Q7A  Q8A  Q9A  Q10A  ...  screensize  \\\n",
              "0    4    4    2    4    4    4    4    4    2     1  ...           1   \n",
              "1    4    1    2    3    4    4    3    4    3     2  ...           2   \n",
              "2    3    1    4    1    4    3    1    3    2     4  ...           2   \n",
              "3    2    3    2    1    3    3    4    2    3     3  ...           2   \n",
              "4    2    2    3    4    4    2    4    4    4     3  ...           2   \n",
              "\n",
              "   uniquenetworklocation  hand  religion  orientation  race  voted  married  \\\n",
              "0                      1     1        12            1    10      2        1   \n",
              "1                      1     2         7            3    70      2        1   \n",
              "2                      1     1         4            3    60      1        1   \n",
              "3                      1     2         4            5    70      2        1   \n",
              "4                      2     3        10            1    10      2        1   \n",
              "\n",
              "   familysize       major  \n",
              "0           2   No Degree  \n",
              "1           4   No Degree  \n",
              "2           3   No Degree  \n",
              "3           5     biology  \n",
              "4           4  Psychology  \n",
              "\n",
              "[5 rows x 68 columns]"
            ]
          },
          "execution_count": 204,
          "metadata": {},
          "output_type": "execute_result"
        }
      ],
      "source": [
        "Data_1.head(5)"
      ]
    },
    {
      "cell_type": "markdown",
      "metadata": {
        "id": "TUXbMpFryHqP"
      },
      "source": [
        "Cleaing and recategorised all the major based on the participant in this survey\n",
        "\n",
        "Participant with blank, no answers and type of &#1593 are considered under no Degree "
      ]
    },
    {
      "cell_type": "code",
      "execution_count": 205,
      "metadata": {
        "id": "BLYT7UIgvOKg"
      },
      "outputs": [],
      "source": [
        "def condition(title):\n",
        "    if 'busin' in str(title).lower() or 'manage' in str(title).lower() or 'Buss' in str(title) or 'Bisness' in str(title) or 'Manag' in str(title) or 'buis' in str(title) or 'Entrepreneur' in str(title) or 'entrepr' in str(title).lower() or 'managment' in str(title).lower() or 'Buis' in str(title) or 'Busni' in str(title) or 'Mana' in str(title) or 'buss' in str(title).lower() or 'Bi' in str(title) or 'Mgt' in str(title) or 'MBA' in str(title) or 'Mgmt' in str(title) or 'MD' in str(title):\n",
        "        return 'Business/Management'\n",
        "    elif 'information technology' in str(title).lower() or 'IT' in str(title) or 'it' in str(title):\n",
        "        return 'I.T'\n",
        "    elif 'math' in str(title).lower() or 'LOGISTICS' in str(title) or 'st' in str(title).lower() or 'marh' in str(title).lower() or 'Mate' in str(title):\n",
        "        return 'Mathematics'\n",
        "    elif 'computer' in str(title).lower():\n",
        "        return 'I.T'\n",
        "    elif 'bio' in str(title).lower() or 'Plant' in str(title) or 'plant' in str(title).lower() or 'Micro' in str(title):\n",
        "        return 'Biology'\n",
        "    elif 'tesl' in str(title).lower() or 'TES' in str(title) or 'Teso' in str(title) or 'Enhlish' in str(title):\n",
        "        return 'English'\n",
        "    elif 'account' in str(title).lower() or 'Accoun' in str(title) or 'Acc' in str(title) or 'acc' in str(title).lower() or 'Acouunt' in str(title) or 'Acvount' in str(title) or 'Count' in str(title):\n",
        "        return 'Accountacy'\n",
        "    elif 'CA' in str(title):\n",
        "        return 'CA'\n",
        "    elif 'none' in str(title).lower() or '0' in str(title) or  '_' in str(title) or '.' in str(title) or 'Nine' in str(title) or '19' in str(title):\n",
        "        return 'No Degree'\n",
        "    elif 'nurs' in str(title).lower() or 'BSN' in str(title):\n",
        "        return 'Nursing'\n",
        "    elif '-' in str(title).lower() or 'NIL' in str(title):\n",
        "        return 'No Degree'\n",
        "    elif 'teach' in str(title).lower() or 'Lect' in str(title) or 'eet' in str(title).lower():\n",
        "        return 'Teaching'\n",
        "    elif 'pharma' in str(title).lower() or 'medic' in str(title).lower() or 'med' in str(title).lower() or 'hospi' in str(title).lower() or 'Mwdicine' in str(title) or 'Farmacy' in str(title) or 'Pharacology' in str(title) or 'farmasi' in str(title).lower() or 'Farmasy' in str(title):\n",
        "        return 'Pharmacy/Medical'\n",
        "    elif 'doctor' in str(title).lower() or  'MBBS' in str(title) or 'Mbbs' in str(title) or 'Surge' in str(title) or 'surge' in str(title) or 'mbbs' in str(title).lower()or 'dermat' in str(title).lower() or 'Podiat' in str(title) :\n",
        "        return 'Doctor'\n",
        "    elif 'no' in str(title).lower() or 'Undec' in str(title) or 'Idk' in str(title) or 'idk' in str(title).lower() or 'Hahaha' in str(title) or 'never' in str(title).lower() or 'T' in str(title) or 'Good' in str(title):\n",
        "        return 'No Degree'\n",
        "    elif 'film' in str(title).lower() or 'Cinema' in str(title) or 'fil' in str(title).lower() or 'Adver' in str(title) or 'adver' in str(title) or 'Act' in str(title) or 'Enter' in str(title) or 'digital' in str(title).lower() or 'cinema' in str(title).lower() or 'Video' in str(title) or 'Direct' in str(title) or 'Theat' in str(title) or 'Radio' in str(title) or 'theat' in str(title).lower() or 'drama' in str(title).lower():\n",
        "        return 'Media'\n",
        "    elif 'international' in str(title).lower() or 'Internatianal' in str(title):\n",
        "        return 'International Relations'\n",
        "    elif 'human' in str(title).lower() or 'hr' in str(title).lower() or 'Hs' in str(title) or 'Hm' in str(title) or 'Humam' in str(title):\n",
        "        return 'Human Resources'\n",
        "    elif 'art' in str(title).lower() or 'Painting' in str(title) or 'Drawing' in str(title) or 'ba' in str(title) or 'Printing' in str(title) or 'las' in str(title).lower() or 'Ma' in str(title) or 'paint' in str(title).lower() or 'creative' in str(title).lower() or 'AA' in str(title) or 'BA' in str(title):\n",
        "        return 'Arts'\n",
        "    elif 'islam' in str(title).lower() or 'Muamalat' in str(title) or 'Quran' in str(title) or 'Halal' in str(title) or 'Usul' in str(title) or 'Zakat' in str(title) or 'usul' in str(title).lower():\n",
        "        return 'Islamic Studies'\n",
        "    elif 'physio' in str(title).lower() or 'fis' in str(title).lower():\n",
        "        return 'Physiotherapy'\n",
        "    elif 'socio' in str(title).lower() or 'social' in str(title).lower() or 'soical' in str(title).lower() or 'Sis' in str(title) or 'Sosio' in str(title) or 'Sicio' in str(title) or 'sosiality' in str(title).lower():\n",
        "        return 'Sociology'\n",
        "    elif 'bank' in str(title).lower():\n",
        "        return 'Banking'\n",
        "    elif 'agri' in str(title).lower():\n",
        "        return 'Agriculture'\n",
        "    elif 'Market' in str(title) or 'Finan' in str(title) or 'finance' in str(title).lower() or 'MARKETING' in str(title) or 'market' in str(title).lower() or 'retail' in str(title).lower() or 'CMP' in str(title) or 'Merket' in str(title):\n",
        "        return 'Marketing/Finance'\n",
        "    elif 'counsel' in str(title).lower() or 'cauns' in str(title) or 'Kaunseling' in str(title) or 'kaunseling' in str(title) or 'Caunsel' in str(title):\n",
        "        return 'Counselling'\n",
        "    elif 'programming' in str(title).lower() or 'coding' in str(title).lower() or 'Ibm' in str(title) or 'ceit' in str(title) or 'Hacking' in str(title):\n",
        "        return 'I.T'\n",
        "    elif 'civil' in str(title).lower() or 'comp' in str(title).lower() or 'Mechanical' in str(title) or 'Electrical' in str(title) or 'Mechatronics' in str(title) or 'Eee' in str(title) or 'cs' in str(title).lower() or 'mecha' in str(title) or 'Chemical' in str(title) or 'chemical' in str(title) or 'tech' in str(title) or 'ec' in str(title).lower() or 'egineering' in str(title).lower() or 'manufacturing' in str(title).lower():\n",
        "        return 'Engineering'\n",
        "    elif 'ict' in str(title).lower() or 'developer' in str(title).lower() or 'I.T' in str(title) or 'CAE&D' in str(title) or 'It' in str(title):\n",
        "        return 'I.T'\n",
        "    elif 'commu' in str(title).lower() or 'comm' in str(title).lower() or 'com' in str(title).lower() or 'Conmunication' in str(title):\n",
        "        return 'Communications'\n",
        "    elif 'administration' in str(title).lower() or 'admin' in str(title).lower():\n",
        "        return 'Administration'\n",
        "    elif 'psycho' in str(title).lower() or 'psy' in str(title).lower() or 'Clinical osychology' in str(title) or 'hschology' in str(title) or 'Pysch' in str(title) or 'pys' in str(title).lower() or 'Pych' in str(title) or 'pscy' in str(title) or 'payc' in str(title).lower() or 'Phyc' in str(title) or 'psicologia' in str(title) or 'Phsychology' in str(title) or 'Phichology' in str(title) or 'psuchology' in str(title) or 'Pschology' in str(title) or 'psikologi' in str(title).lower():\n",
        "        return 'Psychology'\n",
        "    elif 'english' in str(title).lower() or 'Elglish' in str(title) or 'esl' in str(title).lower() or 'Emg' in str(title) or 'emglisj' in str(title).lower():\n",
        "        return 'English'\n",
        "    elif 'law' in str(title).lower() or 'BBA' in str(title) or 'llb' in str(title) or 'lew' in str(title).lower() or 'kaw' in str(title).lower() or 'enforcement' in str(title).lower() or 'Kaw' in str(title):\n",
        "        return 'Law'\n",
        "    elif 'engineering' in str(title).lower() or 'engi' in str(title).lower() or 'eng' in str(title).lower() or 'Software' in str(title) or 'soft' in str(title).lower() or 'mechanical' in str(title).lower() or 'Egineeering' in  str(title) or 'electronic' in str(title).lower() or 'CE' in str(title) or 'mech' in str(title).lower() or 'Ciclvil' in str(title) or 'Eggineering' in str(title) or 'Tech' in str(title) or 'Teol' in str(title) or 'EEE' in str(title) or 'PE' in str(title):\n",
        "        return 'Engineering'\n",
        "    elif 'architecture' in str(title).lower() or 'aechitecture' in str(title).lower() or 'archirecture' in str(title).lower() or 'architect' in str(title).lower() or 'Arsitechture' in str(title) or 'Building' in str(title) or 'building' in str(title).lower() or 'Arc' in str(title):\n",
        "        return 'Architecture'\n",
        "    elif 'design' in str(title).lower() or 'Desig' in str(title) or 'Dssign' in str(title):\n",
        "        return 'Designer'\n",
        "    elif 'science' in str(title).lower() or 'Sceince' in str(title) or 'Sci' in str(title) or 'sciene' in str(title) or 'BS' in str(title):\n",
        "        return 'Pure Sciences'\n",
        "    elif 'physics' in str(title).lower() or 'Phsyics' in str(title) or 'EMC' in str(title) or 'Physic' in str(title) or 'physi' in str(title):\n",
        "        return 'Physics'\n",
        "    elif 'chemistry' in str(title).lower() or 'CIS' in str(title) or 'Chem' in str(title):\n",
        "        return 'Chemistry'\n",
        "    elif 'french' in str(title).lower() or 'Fr' in str(title):\n",
        "        return 'French'\n",
        "    elif 'religi' in str(title).lower() or 'Relegion' in str(title) or 'Rel' in str(title) or 'Hukum' in str(title) or 'Sains' in str(title):\n",
        "        return 'Religious Studies'\n",
        "    elif title=='&#1593;&#1604;&#1605; &#1606;&#1601;&#1587;' or title=='&#22810;&#23186;&#39636;&#35373;&#35336;' or title=='nil' or title=='drop out' or title=='&#1055;&#1089;&#1080;&#1093;&#1086;&#1083;&#1' or title=='75' or title=='Secondary education' or title=='Thiê&#769;t kê&#769; &#273;ô&#768; ho&#803;a' or title=='18' or title=='ongoing' or title=='&#28888;&#22521;' or title=='lol' or title=='In college currently' or title=='secondary education' or title=='Dropped out' or title=='na' or title=='didnt attend' or title=='im going on the next year. ' or title=='&#304;lahiyat' or title=='lmfao, im 15' or title=='Elem Ed' or title=='yes' or title=='N/a' or title=='/' or title=='???' or title=='cocaine 101' or title=='doesnt matter' or title== 'oooo' or title=='G' or title=='Yes' or title=='Na' or title=='Na 'or title=='Want sure':\n",
        "        return 'No Degree'\n",
        "    elif 'Music' in str(title) or 'Dance' in str(title) or 'danc' in str(title).lower() or 'Vocational' in str(title) or 'Muisc' in str(title) or 'music' in str(title).lower() or 'Performance' in str(title):\n",
        "        return 'Music/Dance'\n",
        "    elif 'pol' in str(title).lower() or 'Govern' in str(title) or 'Right' in str(title):\n",
        "        return 'Politics'\n",
        "    elif 'photo' in str(title).lower() or 'Foto' in str(title) or 'Photo' in str(title):\n",
        "        return 'Photography'\n",
        "    elif 'Television' in str(title) or 'telev' in str(title).lower():\n",
        "        return 'Television'\n",
        "    elif 'bahasa' in str(title).lower() or 'Bahasa' in str(title) or 'Malay' in str(title) or 'malay' in str(title).lower():\n",
        "        return 'Malaysian languages'\n",
        "    elif 'Urban' in str(title) or 'Town' in str(title) or 'town' in str(title).lower() or 'planning' in str(title) or 'Plann' in str(title) or 'development' in str(title):\n",
        "        return 'Economic Developments'\n",
        "    elif 'Public' in str(title) or 'public' in str(title).lower():\n",
        "        return 'Public Relations'\n",
        "    elif 'Writing' in str(title) or 'writing' in str(title).lower() or 'Screenwritinf' in str(title) or 'Author' in str(title):\n",
        "        return 'Writing/Author'\n",
        "    elif 'philosophy' in str(title).lower() or 'Phil' in str(title) or 'philos' in str(title).lower() or 'Filo' in str(title) or 'Phylosophy' in str(title):\n",
        "        return 'Philosophy'\n",
        "    elif 'Actua' in str(title):\n",
        "        return 'Acturial Studies'\n",
        "    elif 'DENTALWORKS' in str(title) or 'dental' in str(title) or 'Dental' in str(title) or 'Odont' in str(title):\n",
        "        return 'Dentist'\n",
        "    elif 'beaut' in str(title).lower() or 'Fashion' in str(title) or 'make' in str(title) or 'fashion' in str(title).lower() or 'hair' in str(title).lower() or 'cosmet' in str(title).lower():\n",
        "        return 'Fashion'\n",
        "    elif 'Health' in str(title) or 'health' in str(title).lower() or 'wellness' in str(title).lower() or 'Healtcare' in str(title):\n",
        "        return 'Healthcare'\n",
        "    elif 'Language' in str(title) or 'lang' in str(title).lower() or 'Laq' in str(title):\n",
        "        return 'Languages'\n",
        "    elif 'cook' in str(title).lower() or 'bakery' in str(title).lower() or 'Bak' in str(title) or 'CULINARY' in str(title) or 'Food' in str(title) or 'food' in str(title) or 'chef' in str(title).lower() or 'Cul' in str(title) or 'Patiss' in str(title) or 'culi' in str(title).lower():\n",
        "        return 'Cookings'\n",
        "    elif 'Hotel' in str(title) or 'hotel' in str(title).lower() or 'food service' in str(title) or 'cater' in str(title).lower():\n",
        "        return 'Hotel Management'\n",
        "    elif 'therapy' in str(title).lower() or 'ot' in str(title).lower() or 'theraphy' in str(title):\n",
        "        return 'Therapeutical Studies'\n",
        "    elif 'veter' in str(title).lower() or 'Veter' in str(title) or 'Vet' in str(title):\n",
        "        return 'Veterinary'\n",
        "    elif 'Survey' in str(title) or 'survey' in str(title) or 'serveyors' in str(title).lower() or 'Qs' in str(title) or 'SURVEYING' in str(title) or 'QS' in str(title) or 'Surver' in str(title):\n",
        "        return 'Surveyour Studies'\n",
        "    elif 'Aircraft' in str(title) or 'aircraft' in str(title).lower() or 'aircr' in str(title).lower() or 'aviation' in str(title).lower() or 'Aero' in str(title) or 'navigation' in str(title).lower():\n",
        "        return 'Aircrafts'\n",
        "    elif 'environment' in str(title).lower() or 'Environment' in str(title) or 'envi' in str(title).lower():\n",
        "        return 'Environmental Educations'\n",
        "    elif 'Syariah' in str(title) or 'syariah' in str(title):\n",
        "        return 'Syrian Languages'\n",
        "    elif 'judicial' in str(title).lower() or 'juri' in str(title).lower() or 'legal' in str(title).lower():\n",
        "        return 'Judicial Studies'\n",
        "    elif 'Liter' in str(title) or 'literature' in str(title) or 'litt' in str(title).lower():\n",
        "        return 'Literature'\n",
        "    elif 'child' in str(title).lower() or 'Child' in str(title) or 'Preschool' in str(title):\n",
        "        return 'Child Educations'\n",
        "    elif 'Tour' in str(title) or 'tour'  in str(title).lower():\n",
        "        return 'Tourisms'\n",
        "    elif 'Gam' in str(title) or 'game' in str(title).lower():\n",
        "        return 'Gaming'\n",
        "    elif 'education' in str(title).lower() or 'Education' in str(title) or 'ed' in str(title).lower() or 'acad' in str(title) or 'Dploma' in str(title):\n",
        "        return 'B.Ed or M.Ed'\n",
        "    elif 'Sport' in str(title) or 'sport' in str(title).lower():\n",
        "        return 'Sports'\n",
        "    elif 'Petro' in str(title):\n",
        "        return 'Petroleum'\n",
        "    elif 'Journ' in str(title) or 'jour' in str(title).lower() or 'Joun' in str(title) or 'Jurn' in str(title):\n",
        "        return 'Journalism'\n",
        "    elif 'Mandarin' in str(title):\n",
        "        return 'Chinese/Mandarin Languages'\n",
        "    elif 'Electrician' in str(title):\n",
        "        return 'Electrician'\n",
        "    elif 'Network' in str(title) or 'network' in str(title).lower():\n",
        "        return 'Networking'\n",
        "    elif 'geo' in str(title).lower() or 'GEO' in str(title):\n",
        "        return 'Geography'\n",
        "    elif 'Librarian' in str(title) or 'lib' in str(title).lower():\n",
        "        return 'Librarian'\n",
        "    elif 'Mission' in str(title) or 'mission' in str(title).lower():\n",
        "        return 'Missionary Studies'\n",
        "    elif 'Forensic' in str(title) or 'foren' in str(title).lower() or 'Crime' in str(title) or 'crim' in str(title).lower():\n",
        "        return 'Forensic/Criminal studies'\n",
        "    elif 'Animation' in str(title) or 'animation' in str(title).lower() or 'imag' in str(title) or 'graphic' in str(title) or 'Graphic' in str(title):\n",
        "        return 'Animations'\n",
        "    elif 'aqua' in str(title).lower() or 'Aqu' in str(title):\n",
        "        return 'Aquaculture'\n",
        "    elif 'soldier' in str(title).lower() or 'lwa' in str(title).lower() or 'defence' in str(title):\n",
        "        return 'Army'\n",
        "    elif 'Kinesi' in str(title) or 'kines' in str(title).lower() or 'hod' in str(title):\n",
        "        return 'Human Kinetics'\n",
        "    elif 'Horti' in str(title) or 'horti' in str(title) or 'Landscape' in str(title):\n",
        "        return 'Horticulture'\n",
        "    elif 'commerce' in str(title).lower() or 'Coome' in str(title):\n",
        "        return 'Commerce'\n",
        "    elif 'Speech' in str(title) or 'speech' in str(title).lower():\n",
        "        return 'Speech Pathology'\n",
        "    elif 'SECRET' in str(title) or 'secret' in str(title).lower():\n",
        "        return 'Secretary'\n",
        "    elif 'Animals' in str(title) or 'animal' in str(title).lower() or 'Pet' in str(title):\n",
        "        return 'Animal Care'\n",
        "    elif 'Organisation' in str(title) or 'organi' in str(title).lower():\n",
        "        return 'Organizational Behaviour'\n",
        "    elif 'event' in str(title).lower() or 'Event' in str(title):\n",
        "        return 'Event Managment'\n",
        "    elif 'radiology' in str(title).lower() or 'Radiography' in str(title) or 'radiograpghy' in str(title).lower() or 'Radiation' in str(title) or 'radiography' in str(title):\n",
        "        return 'Radiography'\n",
        "    elif 'nutrition' in str(title).lower() or 'Nutrition' in str(title):\n",
        "        return 'Nutritionist'\n",
        "    elif 'Audit' in str(title) or 'audit' in str(title).lower():\n",
        "        return 'Auditing'\n",
        "    elif 'Neuro' in str(title) or 'neuroligy' in str(title).lower():\n",
        "        return 'Neurology'\n",
        "    elif 'Anato' in str(title) or 'anat' in str(title).lower():\n",
        "        return 'Anatomy'\n",
        "    elif 'trade' in str(title).lower():\n",
        "        return 'Trading'\n",
        "    elif 'Interpre' in str(title) or 'translation' in str(title).lower():\n",
        "        return 'Interpreter'\n",
        "    elif 'audio' in str(title).lower() or 'Audio' in str(title):\n",
        "        return 'Audiology'\n",
        "    elif 'insurance' in str(title).lower() or 'Insurance' in str(title):\n",
        "        return 'Insurances'\n",
        "    elif 'archaeology' in str(title).lower() or 'archaeology' in str(title).lower() or 'archeology' in str(title).lower() or 'treasury' in str(title):\n",
        "        return 'Archeology'\n",
        "    elif 'SERV'in str(title) or 'service' in str(title).lower():\n",
        "        return 'Service Training'\n",
        "    elif 'GERMAN' in str(title) or 'german' in str(title).lower():\n",
        "        return 'German'\n",
        "    elif 'KOREAN' in str(title) or 'Korea' in str(title):\n",
        "        return 'Korean'\n",
        "    elif 'valuat' in str(title).lower() or 'valuer' in str(title).lower():\n",
        "        return 'Registered Valuer'\n",
        "    elif 'skil' in str(title).lower() or 'Skill' in str(title) or 'Professional' in str(title) or 'practical' in str(title).lower():\n",
        "        return 'Skilled Labour'\n",
        "    elif 'virology' in str(title):\n",
        "        return 'Virology'\n",
        "    elif 'lab' in str(title).lower() or 'Lab' in str(title) or 'MLT' in str(title):\n",
        "        return 'Laboratory Worker'\n",
        "    elif 'GENERAL' in str(title) or 'General' in str(title):\n",
        "        return 'General'\n",
        "    elif 'Opto' in str(title) or 'opto' in str(title).lower():\n",
        "        return 'Optometry'\n",
        "    elif 'Zoo' in str(title) or 'zoo' in str(title).lower():\n",
        "        return 'Zoology'\n",
        "    elif 'office' in str(title).lower() or 'Office' in str(title):\n",
        "        return 'Office Skills'\n",
        "    elif 'found' in str(title).lower() or 'Found' in str(title):\n",
        "        return 'Foundation Education'\n",
        "    elif 'general' in str(title).lower() or 'General' in str(title):\n",
        "        return 'General Education'\n",
        "    elif 'real estate' in str(title).lower() or 'property' in str(title).lower():\n",
        "        return 'Realtor'\n",
        "    elif 'Meteorology' in str(title) or 'Metrology' in str(title):\n",
        "        return 'Meterology'\n",
        "    elif 'operations' in str(title).lower() or 'Operation' in str(title):\n",
        "        return 'Operational Managment'\n",
        "    elif 'Merchandising' in str(title) or 'merchand' in str(title).lower():\n",
        "        return 'Merchandising'\n",
        "    elif 'Spanish' in str(title):\n",
        "        return 'Spanish'\n",
        "    elif 'Nature' in str(title) or 'natur' in str(title).lower():\n",
        "        return 'Nature Conservation/Resources'\n",
        "    elif title=='a level ' or title==' ':\n",
        "        return 'No Degree'\n",
        "    elif 'Corporate' in str(title) or 'corporate' in str(title).lower():\n",
        "        return 'Corporate'\n",
        "    elif 'greek' in str(title).lower() or 'Greek' in str(title):\n",
        "        return 'Greek'\n",
        "    elif 'Behaviour' in str(title) or 'Behavior' in str(title) or 'Organizational Behaviour' in str(title):\n",
        "        return 'Behaviour Analysis'\n",
        "    elif 'publish' in str(title).lower():\n",
        "        return 'Publishing'\n",
        "    elif 'Safety' in str(title) or 'safety' in str(title).lower():\n",
        "        return 'Safety Training'\n",
        "    elif 'genetic' in str(title).lower() or 'Genetic' in str(title):\n",
        "        return 'Genetics'\n",
        "    elif 'Dietetic' in str(title):\n",
        "        return 'Dietician'\n",
        "    elif 'Production' in str(title) or 'manufacturing' in str(title).lower():\n",
        "        return 'Production And Manufacturing'\n",
        "    elif 'Welding' in str(title):\n",
        "        return 'Welding'\n",
        "    elif 'Geron' in str(title):\n",
        "        return 'Gerontology'\n",
        "    elif 'Research' in str(title) or 'Ph D' in str(title):\n",
        "        return 'Ph.D'\n",
        "    elif 'arabic' in str(title).lower() or 'Arabic' in str(title):\n",
        "        return 'Arabic'\n",
        "\n",
        "    else:\n",
        "        return title\n",
        "\n",
        "Data_1['major'] = Data_1['major'].apply(condition)"
      ]
    },
    {
      "cell_type": "markdown",
      "metadata": {
        "id": "QeYoBzQWy5A_"
      },
      "source": [
        "Create a array and store the column major in the array and display it to get the categories overview "
      ]
    },
    {
      "cell_type": "code",
      "execution_count": 206,
      "metadata": {
        "colab": {
          "base_uri": "https://localhost:8080/"
        },
        "id": "1OR5WdSNNzk4",
        "outputId": "5b182ea1-384f-4228-efbf-cad9a3ec5840"
      },
      "outputs": [
        {
          "name": "stdout",
          "output_type": "stream",
          "text": [
            "{'Veterinary', 'Spanish', 'Corporate', 'Skilled Labour', 'College diploma', 'Banking', 'B.Ed or M.Ed', 'Army', 'Business/Management', 'Physics', 'Cookings', 'Tourisms', 'Politics', 'Fashion', 'Child Educations', 'Publishing', 'Pathology', 'Photography', 'Agriculture', 'clinical measurement', 'Anatomy', 'Librarian', 'Bookkeeping ', 'Builders', 'Accountacy', 'Media', 'Neurology', 'Forensic/Criminal studies', 'Bachelor', 'Environmental Educations', 'Radiography', 'theology', 'Horticulture', 'Syrian Languages', 'Organizational Behaviour', 'Crisis intervention', 'Cabin Crew', 'Missionary Studies', 'Communications', 'Law', 'No Degree', 'Information ', 'Economic Developments', 'Commerce', 'Behaviour Analysis', 'Surveyour Studies', 'Languages', 'Event Managment', 'Kiin', 'Supply chain', 'Service Training', 'Archeology', 'Engineering', 'Human Resources', 'Audiology', 'maintenance', 'Therapeutical Studies', 'Sculpture', 'Singer', 'Product Development', 'Optometry', 'Laboratory Worker', 'Journalism', 'Danish', 'Dentist', 'Sports', 'Virology', 'Gaming', 'Registered Valuer', 'Zoology', 'Chinese', 'Interpreter', 'Marketing/Finance', 'Malaysian languages', 'Philosophy', 'Afrikaans', 'IR', 'epidemiology', 'harvard', 'Designer', 'Aquaculture', 'Arabic', 'Petroleum', 'Korean', 'Operational Managment', 'Dutch', 'Pharmacy/Medical', 'Counselling', 'Wildlife resources', 'Islamic Studies', 'Hotel Management', 'Trading', 'Healthcare', 'French', 'Chargeman', 'Realtor', 'Biology', 'Sociology', 'Foundation Education', 'Geography', 'Arts', 'Leadership', 'Gis', 'I.T', 'Human Kinetics', 'Genetics', 'Nursing', 'International Relations', 'Couselling', 'Welding', 'usa', 'Information', 'Mining ', 'Music/Dance', 'English', 'Greek', 'Safety Training', 'Chemistry', 'Palaeontology', 'Ophthmalology', 'Dietician', 'Youth Work', 'Museology', 'hvac', 'CA', 'Judicial Studies', 'midwivery', 'Meterology', 'Nature Conservation/Resources', 'Animal Care', 'Writing/Author', 'Aircrafts', 'Production And Manufacturing', 'Gerontology', 'Insurances', 'portuguese', 'Japanese', 'Office Skills', 'Animations', 'Administration', 'Architecture', 'Psychology', 'Pure Sciences', 'Russian philology', 'Merchandising', 'Networking', 'Doctor', 'Religious Studies', 'Corrosion ', 'General Education', 'German', 'Physiotherapy', 'Public Relations', 'Cretive Visual', 'General', 'Teaching', 'Mathematics', 'Ph.D'}\n"
          ]
        }
      ],
      "source": [
        "list_show=[]\n",
        "for x in Data_1['major']:\n",
        "    list_show.append(x)\n",
        "print(set(list_show))"
      ]
    },
    {
      "cell_type": "markdown",
      "metadata": {
        "id": "6BTE4SAmz32_"
      },
      "source": [
        "**not sure what is this "
      ]
    },
    {
      "cell_type": "code",
      "execution_count": 207,
      "metadata": {
        "id": "1CJOphFZB2ME"
      },
      "outputs": [],
      "source": [
        "Data_1=Data_1.replace([np.inf, -np.inf], np.nan)\n",
        "Data_1=Data_1.dropna()"
      ]
    },
    {
      "cell_type": "markdown",
      "metadata": {
        "id": "mf0loer50T19"
      },
      "source": [
        "Make a barchart to have a better understanding about the true number of the participant in the top 20 major\n"
      ]
    },
    {
      "cell_type": "code",
      "execution_count": 208,
      "metadata": {
        "colab": {
          "base_uri": "https://localhost:8080/",
          "height": 530
        },
        "id": "xeLTk7DWB92y",
        "outputId": "577ebf6e-9856-439c-f4e3-28d0f07b37ae"
      },
      "outputs": [
        {
          "data": {
            "text/plain": [
              "Text(0.5, 1.0, 'The Top 20 Majors of participant in the Survey')"
            ]
          },
          "execution_count": 208,
          "metadata": {},
          "output_type": "execute_result"
        },
        {
          "data": {
            "image/png": "[encoded data removed]",
            "text/plain": [
              "<Figure size 1440x576 with 1 Axes>"
            ]
          },
          "metadata": {
            "needs_background": "light"
          },
          "output_type": "display_data"
        }
      ],
      "source": [
        "plt.figure(figsize=(20,8))\n",
        "Data_1['major'].value_counts()[:20].plot(kind='barh',color='blue')\n",
        "plt.ylabel('Majors and field')\n",
        "plt.xlabel('Number of Participant')\n",
        "plt.title('The Top 20 Majors of participant in the Survey')"
      ]
    },
    {
      "cell_type": "markdown",
      "metadata": {
        "id": "bOsJpdqt1yBN"
      },
      "source": [
        "Create a new Age_groups by having only these attributes'Under 10 Children', 'Primary Children', 'teenager', 'Adults'; 'Seniors', 'Elderly' based on the column age. \n",
        "\n",
        "Display the dataset and the Age_groups\n"
      ]
    },
    {
      "cell_type": "code",
      "execution_count": 209,
      "metadata": {
        "colab": {
          "base_uri": "https://localhost:8080/",
          "height": 235
        },
        "id": "682el2PECMX4",
        "outputId": "ddb1e6ee-d5bb-41a4-df69-a35419f1375d"
      },
      "outputs": [
        {
          "data": {
            "text/html": [
              "<div>\n",
              "<style scoped>\n",
              "    .dataframe tbody tr th:only-of-type {\n",
              "        vertical-align: middle;\n",
              "    }\n",
              "\n",
              "    .dataframe tbody tr th {\n",
              "        vertical-align: top;\n",
              "    }\n",
              "\n",
              "    .dataframe thead th {\n",
              "        text-align: right;\n",
              "    }\n",
              "</style>\n",
              "<table border=\"1\" class=\"dataframe\">\n",
              "  <thead>\n",
              "    <tr style=\"text-align: right;\">\n",
              "      <th></th>\n",
              "      <th>Q1A</th>\n",
              "      <th>Q2A</th>\n",
              "      <th>Q3A</th>\n",
              "      <th>Q4A</th>\n",
              "      <th>Q5A</th>\n",
              "      <th>Q6A</th>\n",
              "      <th>Q7A</th>\n",
              "      <th>Q8A</th>\n",
              "      <th>Q9A</th>\n",
              "      <th>Q10A</th>\n",
              "      <th>...</th>\n",
              "      <th>uniquenetworklocation</th>\n",
              "      <th>hand</th>\n",
              "      <th>religion</th>\n",
              "      <th>orientation</th>\n",
              "      <th>race</th>\n",
              "      <th>voted</th>\n",
              "      <th>married</th>\n",
              "      <th>familysize</th>\n",
              "      <th>major</th>\n",
              "      <th>Age_Groups</th>\n",
              "    </tr>\n",
              "  </thead>\n",
              "  <tbody>\n",
              "    <tr>\n",
              "      <th>0</th>\n",
              "      <td>4</td>\n",
              "      <td>4</td>\n",
              "      <td>2</td>\n",
              "      <td>4</td>\n",
              "      <td>4</td>\n",
              "      <td>4</td>\n",
              "      <td>4</td>\n",
              "      <td>4</td>\n",
              "      <td>2</td>\n",
              "      <td>1</td>\n",
              "      <td>...</td>\n",
              "      <td>1</td>\n",
              "      <td>1</td>\n",
              "      <td>12</td>\n",
              "      <td>1</td>\n",
              "      <td>10</td>\n",
              "      <td>2</td>\n",
              "      <td>1</td>\n",
              "      <td>2</td>\n",
              "      <td>No Degree</td>\n",
              "      <td>Primary Children</td>\n",
              "    </tr>\n",
              "    <tr>\n",
              "      <th>1</th>\n",
              "      <td>4</td>\n",
              "      <td>1</td>\n",
              "      <td>2</td>\n",
              "      <td>3</td>\n",
              "      <td>4</td>\n",
              "      <td>4</td>\n",
              "      <td>3</td>\n",
              "      <td>4</td>\n",
              "      <td>3</td>\n",
              "      <td>2</td>\n",
              "      <td>...</td>\n",
              "      <td>1</td>\n",
              "      <td>2</td>\n",
              "      <td>7</td>\n",
              "      <td>3</td>\n",
              "      <td>70</td>\n",
              "      <td>2</td>\n",
              "      <td>1</td>\n",
              "      <td>4</td>\n",
              "      <td>No Degree</td>\n",
              "      <td>Primary Children</td>\n",
              "    </tr>\n",
              "    <tr>\n",
              "      <th>2</th>\n",
              "      <td>3</td>\n",
              "      <td>1</td>\n",
              "      <td>4</td>\n",
              "      <td>1</td>\n",
              "      <td>4</td>\n",
              "      <td>3</td>\n",
              "      <td>1</td>\n",
              "      <td>3</td>\n",
              "      <td>2</td>\n",
              "      <td>4</td>\n",
              "      <td>...</td>\n",
              "      <td>1</td>\n",
              "      <td>1</td>\n",
              "      <td>4</td>\n",
              "      <td>3</td>\n",
              "      <td>60</td>\n",
              "      <td>1</td>\n",
              "      <td>1</td>\n",
              "      <td>3</td>\n",
              "      <td>No Degree</td>\n",
              "      <td>teenager</td>\n",
              "    </tr>\n",
              "    <tr>\n",
              "      <th>3</th>\n",
              "      <td>2</td>\n",
              "      <td>3</td>\n",
              "      <td>2</td>\n",
              "      <td>1</td>\n",
              "      <td>3</td>\n",
              "      <td>3</td>\n",
              "      <td>4</td>\n",
              "      <td>2</td>\n",
              "      <td>3</td>\n",
              "      <td>3</td>\n",
              "      <td>...</td>\n",
              "      <td>1</td>\n",
              "      <td>2</td>\n",
              "      <td>4</td>\n",
              "      <td>5</td>\n",
              "      <td>70</td>\n",
              "      <td>2</td>\n",
              "      <td>1</td>\n",
              "      <td>5</td>\n",
              "      <td>Biology</td>\n",
              "      <td>Primary Children</td>\n",
              "    </tr>\n",
              "    <tr>\n",
              "      <th>4</th>\n",
              "      <td>2</td>\n",
              "      <td>2</td>\n",
              "      <td>3</td>\n",
              "      <td>4</td>\n",
              "      <td>4</td>\n",
              "      <td>2</td>\n",
              "      <td>4</td>\n",
              "      <td>4</td>\n",
              "      <td>4</td>\n",
              "      <td>3</td>\n",
              "      <td>...</td>\n",
              "      <td>2</td>\n",
              "      <td>3</td>\n",
              "      <td>10</td>\n",
              "      <td>1</td>\n",
              "      <td>10</td>\n",
              "      <td>2</td>\n",
              "      <td>1</td>\n",
              "      <td>4</td>\n",
              "      <td>Psychology</td>\n",
              "      <td>teenager</td>\n",
              "    </tr>\n",
              "  </tbody>\n",
              "</table>\n",
              "<p>5 rows × 69 columns</p>\n",
              "</div>"
            ],
            "text/plain": [
              "   Q1A  Q2A  Q3A  Q4A  Q5A  Q6A  Q7A  Q8A  Q9A  Q10A  ...  \\\n",
              "0    4    4    2    4    4    4    4    4    2     1  ...   \n",
              "1    4    1    2    3    4    4    3    4    3     2  ...   \n",
              "2    3    1    4    1    4    3    1    3    2     4  ...   \n",
              "3    2    3    2    1    3    3    4    2    3     3  ...   \n",
              "4    2    2    3    4    4    2    4    4    4     3  ...   \n",
              "\n",
              "   uniquenetworklocation  hand  religion  orientation  race  voted  married  \\\n",
              "0                      1     1        12            1    10      2        1   \n",
              "1                      1     2         7            3    70      2        1   \n",
              "2                      1     1         4            3    60      1        1   \n",
              "3                      1     2         4            5    70      2        1   \n",
              "4                      2     3        10            1    10      2        1   \n",
              "\n",
              "   familysize       major         Age_Groups  \n",
              "0           2   No Degree   Primary Children  \n",
              "1           4   No Degree   Primary Children  \n",
              "2           3   No Degree           teenager  \n",
              "3           5     Biology   Primary Children  \n",
              "4           4  Psychology           teenager  \n",
              "\n",
              "[5 rows x 69 columns]"
            ]
          },
          "execution_count": 209,
          "metadata": {},
          "output_type": "execute_result"
        }
      ],
      "source": [
        "def condition(x):\n",
        "    if x<=10:\n",
        "        return 'Under 10 Children'\n",
        "    if  10<=x<=16:\n",
        "        return ' Primary Children'\n",
        "    if 17<=x<=21:\n",
        "        return 'teenager'\n",
        "    if 21<=x<=35:\n",
        "        return 'Adults'\n",
        "    if 36<=x<=48:\n",
        "        return 'Seniors'\n",
        "    if x>=49:\n",
        "        return 'Elderly'\n",
        "\n",
        "Data_1['Age_Groups']=Data_1['age'].apply(condition)\n",
        "Data_1.head()"
      ]
    },
    {
      "cell_type": "markdown",
      "metadata": {
        "id": "IFw1agzMcWUF"
      },
      "source": [
        "get the columns after column 42 and store it in the Filtered data for future use.\n",
        "\n",
        "Get the data from Data_1 and store it in the Data_2 to continue process the data"
      ]
    },
    {
      "cell_type": "code",
      "execution_count": 210,
      "metadata": {
        "colab": {
          "base_uri": "https://localhost:8080/",
          "height": 235
        },
        "id": "ffqWJhhE4sZK",
        "outputId": "32bc0e8a-df0b-4d13-d6e9-2210f1d960dd"
      },
      "outputs": [
        {
          "data": {
            "text/html": [
              "<div>\n",
              "<style scoped>\n",
              "    .dataframe tbody tr th:only-of-type {\n",
              "        vertical-align: middle;\n",
              "    }\n",
              "\n",
              "    .dataframe tbody tr th {\n",
              "        vertical-align: top;\n",
              "    }\n",
              "\n",
              "    .dataframe thead th {\n",
              "        text-align: right;\n",
              "    }\n",
              "</style>\n",
              "<table border=\"1\" class=\"dataframe\">\n",
              "  <thead>\n",
              "    <tr style=\"text-align: right;\">\n",
              "      <th></th>\n",
              "      <th>Q1A</th>\n",
              "      <th>Q2A</th>\n",
              "      <th>Q3A</th>\n",
              "      <th>Q4A</th>\n",
              "      <th>Q5A</th>\n",
              "      <th>Q6A</th>\n",
              "      <th>Q7A</th>\n",
              "      <th>Q8A</th>\n",
              "      <th>Q9A</th>\n",
              "      <th>Q10A</th>\n",
              "      <th>...</th>\n",
              "      <th>Q33A</th>\n",
              "      <th>Q34A</th>\n",
              "      <th>Q35A</th>\n",
              "      <th>Q36A</th>\n",
              "      <th>Q37A</th>\n",
              "      <th>Q38A</th>\n",
              "      <th>Q39A</th>\n",
              "      <th>Q40A</th>\n",
              "      <th>Q41A</th>\n",
              "      <th>Q42A</th>\n",
              "    </tr>\n",
              "  </thead>\n",
              "  <tbody>\n",
              "    <tr>\n",
              "      <th>0</th>\n",
              "      <td>4</td>\n",
              "      <td>4</td>\n",
              "      <td>2</td>\n",
              "      <td>4</td>\n",
              "      <td>4</td>\n",
              "      <td>4</td>\n",
              "      <td>4</td>\n",
              "      <td>4</td>\n",
              "      <td>2</td>\n",
              "      <td>1</td>\n",
              "      <td>...</td>\n",
              "      <td>2</td>\n",
              "      <td>3</td>\n",
              "      <td>4</td>\n",
              "      <td>4</td>\n",
              "      <td>1</td>\n",
              "      <td>2</td>\n",
              "      <td>4</td>\n",
              "      <td>3</td>\n",
              "      <td>4</td>\n",
              "      <td>4</td>\n",
              "    </tr>\n",
              "    <tr>\n",
              "      <th>1</th>\n",
              "      <td>4</td>\n",
              "      <td>1</td>\n",
              "      <td>2</td>\n",
              "      <td>3</td>\n",
              "      <td>4</td>\n",
              "      <td>4</td>\n",
              "      <td>3</td>\n",
              "      <td>4</td>\n",
              "      <td>3</td>\n",
              "      <td>2</td>\n",
              "      <td>...</td>\n",
              "      <td>3</td>\n",
              "      <td>2</td>\n",
              "      <td>2</td>\n",
              "      <td>3</td>\n",
              "      <td>4</td>\n",
              "      <td>2</td>\n",
              "      <td>2</td>\n",
              "      <td>1</td>\n",
              "      <td>2</td>\n",
              "      <td>2</td>\n",
              "    </tr>\n",
              "    <tr>\n",
              "      <th>2</th>\n",
              "      <td>3</td>\n",
              "      <td>1</td>\n",
              "      <td>4</td>\n",
              "      <td>1</td>\n",
              "      <td>4</td>\n",
              "      <td>3</td>\n",
              "      <td>1</td>\n",
              "      <td>3</td>\n",
              "      <td>2</td>\n",
              "      <td>4</td>\n",
              "      <td>...</td>\n",
              "      <td>1</td>\n",
              "      <td>4</td>\n",
              "      <td>3</td>\n",
              "      <td>4</td>\n",
              "      <td>4</td>\n",
              "      <td>4</td>\n",
              "      <td>2</td>\n",
              "      <td>2</td>\n",
              "      <td>1</td>\n",
              "      <td>4</td>\n",
              "    </tr>\n",
              "    <tr>\n",
              "      <th>3</th>\n",
              "      <td>2</td>\n",
              "      <td>3</td>\n",
              "      <td>2</td>\n",
              "      <td>1</td>\n",
              "      <td>3</td>\n",
              "      <td>3</td>\n",
              "      <td>4</td>\n",
              "      <td>2</td>\n",
              "      <td>3</td>\n",
              "      <td>3</td>\n",
              "      <td>...</td>\n",
              "      <td>2</td>\n",
              "      <td>4</td>\n",
              "      <td>1</td>\n",
              "      <td>1</td>\n",
              "      <td>2</td>\n",
              "      <td>1</td>\n",
              "      <td>3</td>\n",
              "      <td>4</td>\n",
              "      <td>4</td>\n",
              "      <td>2</td>\n",
              "    </tr>\n",
              "    <tr>\n",
              "      <th>4</th>\n",
              "      <td>2</td>\n",
              "      <td>2</td>\n",
              "      <td>3</td>\n",
              "      <td>4</td>\n",
              "      <td>4</td>\n",
              "      <td>2</td>\n",
              "      <td>4</td>\n",
              "      <td>4</td>\n",
              "      <td>4</td>\n",
              "      <td>3</td>\n",
              "      <td>...</td>\n",
              "      <td>4</td>\n",
              "      <td>4</td>\n",
              "      <td>3</td>\n",
              "      <td>4</td>\n",
              "      <td>3</td>\n",
              "      <td>3</td>\n",
              "      <td>3</td>\n",
              "      <td>4</td>\n",
              "      <td>4</td>\n",
              "      <td>3</td>\n",
              "    </tr>\n",
              "  </tbody>\n",
              "</table>\n",
              "<p>5 rows × 42 columns</p>\n",
              "</div>"
            ],
            "text/plain": [
              "   Q1A  Q2A  Q3A  Q4A  Q5A  Q6A  Q7A  Q8A  Q9A  Q10A  ...  Q33A  Q34A  Q35A  \\\n",
              "0    4    4    2    4    4    4    4    4    2     1  ...     2     3     4   \n",
              "1    4    1    2    3    4    4    3    4    3     2  ...     3     2     2   \n",
              "2    3    1    4    1    4    3    1    3    2     4  ...     1     4     3   \n",
              "3    2    3    2    1    3    3    4    2    3     3  ...     2     4     1   \n",
              "4    2    2    3    4    4    2    4    4    4     3  ...     4     4     3   \n",
              "\n",
              "   Q36A  Q37A  Q38A  Q39A  Q40A  Q41A  Q42A  \n",
              "0     4     1     2     4     3     4     4  \n",
              "1     3     4     2     2     1     2     2  \n",
              "2     4     4     4     2     2     1     4  \n",
              "3     1     2     1     3     4     4     2  \n",
              "4     4     3     3     3     4     4     3  \n",
              "\n",
              "[5 rows x 42 columns]"
            ]
          },
          "execution_count": 210,
          "metadata": {},
          "output_type": "execute_result"
        }
      ],
      "source": [
        "Filtered_data=Data_1.iloc[:,42:]\n",
        "Data_2=Data_1.filter(regex='Q\\d{1,2}A')\n",
        "Data_2.head()\n"
      ]
    },
    {
      "cell_type": "markdown",
      "metadata": {
        "id": "YRAeD9UtSq1h"
      },
      "source": [
        "Select the column we want to make a depression set framework to work with it "
      ]
    },
    {
      "cell_type": "code",
      "execution_count": 211,
      "metadata": {
        "id": "vQ6R1MgH4vjJ"
      },
      "outputs": [],
      "source": [
        "def sub(Data_2):\n",
        "    return Data_2.subtract(1,axis=1)\n",
        "data_2=sub(Data_2) \n",
        "DASS_keys = {'Depression': [3, 5, 10, 13, 16, 17, 21, 24, 26, 31, 34, 37, 38, 42]}\n",
        "Dep = []\n",
        "for i in DASS_keys[\"Depression\"]:\n",
        "    Dep.append('Q'+str(i)+'A')\n",
        "\n",
        "depression_set= data_2.filter(Dep)\n"
      ]
    },
    {
      "cell_type": "markdown",
      "metadata": {
        "id": "YW6NxNUvUHyb"
      },
      "source": [
        "Evaluate and give score to the depression set and store it in the column Total_Count"
      ]
    },
    {
      "cell_type": "code",
      "execution_count": 212,
      "metadata": {
        "id": "9TBFMZYN46BZ"
      },
      "outputs": [],
      "source": [
        "def scores(source):\n",
        "    col=list(source)\n",
        "    source['Total_Count']=source[col].sum(axis=1)\n",
        "    return source\n",
        "depression_set=scores(depression_set)\n",
        "#del depression_set['Total_Count'] "
      ]
    },
    {
      "cell_type": "markdown",
      "metadata": {
        "id": "cm70ym-nYTe9"
      },
      "source": [
        "Display the depression set that have been filtered from the original dataset \n",
        "(wanna ask about the total value)"
      ]
    },
    {
      "cell_type": "code",
      "execution_count": 213,
      "metadata": {
        "colab": {
          "base_uri": "https://localhost:8080/",
          "height": 206
        },
        "id": "fnYS81fsWaOC",
        "outputId": "1b5283a4-8864-402c-82ee-bc3029254304"
      },
      "outputs": [
        {
          "data": {
            "text/html": [
              "<div>\n",
              "<style scoped>\n",
              "    .dataframe tbody tr th:only-of-type {\n",
              "        vertical-align: middle;\n",
              "    }\n",
              "\n",
              "    .dataframe tbody tr th {\n",
              "        vertical-align: top;\n",
              "    }\n",
              "\n",
              "    .dataframe thead th {\n",
              "        text-align: right;\n",
              "    }\n",
              "</style>\n",
              "<table border=\"1\" class=\"dataframe\">\n",
              "  <thead>\n",
              "    <tr style=\"text-align: right;\">\n",
              "      <th></th>\n",
              "      <th>Q3A</th>\n",
              "      <th>Q5A</th>\n",
              "      <th>Q10A</th>\n",
              "      <th>Q13A</th>\n",
              "      <th>Q16A</th>\n",
              "      <th>Q17A</th>\n",
              "      <th>Q21A</th>\n",
              "      <th>Q24A</th>\n",
              "      <th>Q26A</th>\n",
              "      <th>Q31A</th>\n",
              "      <th>Q34A</th>\n",
              "      <th>Q37A</th>\n",
              "      <th>Q38A</th>\n",
              "      <th>Q42A</th>\n",
              "      <th>Total_Count</th>\n",
              "    </tr>\n",
              "  </thead>\n",
              "  <tbody>\n",
              "    <tr>\n",
              "      <th>0</th>\n",
              "      <td>1</td>\n",
              "      <td>3</td>\n",
              "      <td>0</td>\n",
              "      <td>3</td>\n",
              "      <td>3</td>\n",
              "      <td>2</td>\n",
              "      <td>0</td>\n",
              "      <td>3</td>\n",
              "      <td>3</td>\n",
              "      <td>3</td>\n",
              "      <td>2</td>\n",
              "      <td>0</td>\n",
              "      <td>1</td>\n",
              "      <td>3</td>\n",
              "      <td>27</td>\n",
              "    </tr>\n",
              "    <tr>\n",
              "      <th>1</th>\n",
              "      <td>1</td>\n",
              "      <td>3</td>\n",
              "      <td>1</td>\n",
              "      <td>3</td>\n",
              "      <td>2</td>\n",
              "      <td>3</td>\n",
              "      <td>1</td>\n",
              "      <td>1</td>\n",
              "      <td>2</td>\n",
              "      <td>1</td>\n",
              "      <td>1</td>\n",
              "      <td>3</td>\n",
              "      <td>1</td>\n",
              "      <td>1</td>\n",
              "      <td>24</td>\n",
              "    </tr>\n",
              "    <tr>\n",
              "      <th>2</th>\n",
              "      <td>3</td>\n",
              "      <td>3</td>\n",
              "      <td>3</td>\n",
              "      <td>3</td>\n",
              "      <td>3</td>\n",
              "      <td>3</td>\n",
              "      <td>3</td>\n",
              "      <td>3</td>\n",
              "      <td>0</td>\n",
              "      <td>3</td>\n",
              "      <td>3</td>\n",
              "      <td>3</td>\n",
              "      <td>3</td>\n",
              "      <td>3</td>\n",
              "      <td>39</td>\n",
              "    </tr>\n",
              "    <tr>\n",
              "      <th>3</th>\n",
              "      <td>1</td>\n",
              "      <td>2</td>\n",
              "      <td>2</td>\n",
              "      <td>0</td>\n",
              "      <td>1</td>\n",
              "      <td>2</td>\n",
              "      <td>0</td>\n",
              "      <td>0</td>\n",
              "      <td>1</td>\n",
              "      <td>2</td>\n",
              "      <td>3</td>\n",
              "      <td>1</td>\n",
              "      <td>0</td>\n",
              "      <td>1</td>\n",
              "      <td>16</td>\n",
              "    </tr>\n",
              "    <tr>\n",
              "      <th>4</th>\n",
              "      <td>2</td>\n",
              "      <td>3</td>\n",
              "      <td>2</td>\n",
              "      <td>3</td>\n",
              "      <td>2</td>\n",
              "      <td>3</td>\n",
              "      <td>2</td>\n",
              "      <td>1</td>\n",
              "      <td>3</td>\n",
              "      <td>2</td>\n",
              "      <td>3</td>\n",
              "      <td>2</td>\n",
              "      <td>2</td>\n",
              "      <td>2</td>\n",
              "      <td>32</td>\n",
              "    </tr>\n",
              "  </tbody>\n",
              "</table>\n",
              "</div>"
            ],
            "text/plain": [
              "   Q3A  Q5A  Q10A  Q13A  Q16A  Q17A  Q21A  Q24A  Q26A  Q31A  Q34A  Q37A  Q38A  \\\n",
              "0    1    3     0     3     3     2     0     3     3     3     2     0     1   \n",
              "1    1    3     1     3     2     3     1     1     2     1     1     3     1   \n",
              "2    3    3     3     3     3     3     3     3     0     3     3     3     3   \n",
              "3    1    2     2     0     1     2     0     0     1     2     3     1     0   \n",
              "4    2    3     2     3     2     3     2     1     3     2     3     2     2   \n",
              "\n",
              "   Q42A  Total_Count  \n",
              "0     3           27  \n",
              "1     1           24  \n",
              "2     3           39  \n",
              "3     1           16  \n",
              "4     2           32  "
            ]
          },
          "execution_count": 213,
          "metadata": {},
          "output_type": "execute_result"
        }
      ],
      "source": [
        "depression_set.head()"
      ]
    },
    {
      "cell_type": "markdown",
      "metadata": {
        "id": "7XglgMkpY8Lx"
      },
      "source": [
        "Merged the Depression_set and Filtered_data that we created earlier and display it"
      ]
    },
    {
      "cell_type": "code",
      "execution_count": 214,
      "metadata": {
        "colab": {
          "base_uri": "https://localhost:8080/",
          "height": 235
        },
        "id": "eCvr-YN9Yfb0",
        "outputId": "de9049b7-560c-4b4f-8a6b-6aab6a3ce921"
      },
      "outputs": [
        {
          "data": {
            "text/html": [
              "<div>\n",
              "<style scoped>\n",
              "    .dataframe tbody tr th:only-of-type {\n",
              "        vertical-align: middle;\n",
              "    }\n",
              "\n",
              "    .dataframe tbody tr th {\n",
              "        vertical-align: top;\n",
              "    }\n",
              "\n",
              "    .dataframe thead th {\n",
              "        text-align: right;\n",
              "    }\n",
              "</style>\n",
              "<table border=\"1\" class=\"dataframe\">\n",
              "  <thead>\n",
              "    <tr style=\"text-align: right;\">\n",
              "      <th></th>\n",
              "      <th>Q3A</th>\n",
              "      <th>Q5A</th>\n",
              "      <th>Q10A</th>\n",
              "      <th>Q13A</th>\n",
              "      <th>Q16A</th>\n",
              "      <th>Q17A</th>\n",
              "      <th>Q21A</th>\n",
              "      <th>Q24A</th>\n",
              "      <th>Q26A</th>\n",
              "      <th>Q31A</th>\n",
              "      <th>...</th>\n",
              "      <th>uniquenetworklocation</th>\n",
              "      <th>hand</th>\n",
              "      <th>religion</th>\n",
              "      <th>orientation</th>\n",
              "      <th>race</th>\n",
              "      <th>voted</th>\n",
              "      <th>married</th>\n",
              "      <th>familysize</th>\n",
              "      <th>major</th>\n",
              "      <th>Age_Groups</th>\n",
              "    </tr>\n",
              "  </thead>\n",
              "  <tbody>\n",
              "    <tr>\n",
              "      <th>0</th>\n",
              "      <td>1</td>\n",
              "      <td>3</td>\n",
              "      <td>0</td>\n",
              "      <td>3</td>\n",
              "      <td>3</td>\n",
              "      <td>2</td>\n",
              "      <td>0</td>\n",
              "      <td>3</td>\n",
              "      <td>3</td>\n",
              "      <td>3</td>\n",
              "      <td>...</td>\n",
              "      <td>1</td>\n",
              "      <td>1</td>\n",
              "      <td>12</td>\n",
              "      <td>1</td>\n",
              "      <td>10</td>\n",
              "      <td>2</td>\n",
              "      <td>1</td>\n",
              "      <td>2</td>\n",
              "      <td>No Degree</td>\n",
              "      <td>Primary Children</td>\n",
              "    </tr>\n",
              "    <tr>\n",
              "      <th>1</th>\n",
              "      <td>1</td>\n",
              "      <td>3</td>\n",
              "      <td>1</td>\n",
              "      <td>3</td>\n",
              "      <td>2</td>\n",
              "      <td>3</td>\n",
              "      <td>1</td>\n",
              "      <td>1</td>\n",
              "      <td>2</td>\n",
              "      <td>1</td>\n",
              "      <td>...</td>\n",
              "      <td>1</td>\n",
              "      <td>2</td>\n",
              "      <td>7</td>\n",
              "      <td>3</td>\n",
              "      <td>70</td>\n",
              "      <td>2</td>\n",
              "      <td>1</td>\n",
              "      <td>4</td>\n",
              "      <td>No Degree</td>\n",
              "      <td>Primary Children</td>\n",
              "    </tr>\n",
              "    <tr>\n",
              "      <th>2</th>\n",
              "      <td>3</td>\n",
              "      <td>3</td>\n",
              "      <td>3</td>\n",
              "      <td>3</td>\n",
              "      <td>3</td>\n",
              "      <td>3</td>\n",
              "      <td>3</td>\n",
              "      <td>3</td>\n",
              "      <td>0</td>\n",
              "      <td>3</td>\n",
              "      <td>...</td>\n",
              "      <td>1</td>\n",
              "      <td>1</td>\n",
              "      <td>4</td>\n",
              "      <td>3</td>\n",
              "      <td>60</td>\n",
              "      <td>1</td>\n",
              "      <td>1</td>\n",
              "      <td>3</td>\n",
              "      <td>No Degree</td>\n",
              "      <td>teenager</td>\n",
              "    </tr>\n",
              "    <tr>\n",
              "      <th>3</th>\n",
              "      <td>1</td>\n",
              "      <td>2</td>\n",
              "      <td>2</td>\n",
              "      <td>0</td>\n",
              "      <td>1</td>\n",
              "      <td>2</td>\n",
              "      <td>0</td>\n",
              "      <td>0</td>\n",
              "      <td>1</td>\n",
              "      <td>2</td>\n",
              "      <td>...</td>\n",
              "      <td>1</td>\n",
              "      <td>2</td>\n",
              "      <td>4</td>\n",
              "      <td>5</td>\n",
              "      <td>70</td>\n",
              "      <td>2</td>\n",
              "      <td>1</td>\n",
              "      <td>5</td>\n",
              "      <td>Biology</td>\n",
              "      <td>Primary Children</td>\n",
              "    </tr>\n",
              "    <tr>\n",
              "      <th>4</th>\n",
              "      <td>2</td>\n",
              "      <td>3</td>\n",
              "      <td>2</td>\n",
              "      <td>3</td>\n",
              "      <td>2</td>\n",
              "      <td>3</td>\n",
              "      <td>2</td>\n",
              "      <td>1</td>\n",
              "      <td>3</td>\n",
              "      <td>2</td>\n",
              "      <td>...</td>\n",
              "      <td>2</td>\n",
              "      <td>3</td>\n",
              "      <td>10</td>\n",
              "      <td>1</td>\n",
              "      <td>10</td>\n",
              "      <td>2</td>\n",
              "      <td>1</td>\n",
              "      <td>4</td>\n",
              "      <td>Psychology</td>\n",
              "      <td>teenager</td>\n",
              "    </tr>\n",
              "  </tbody>\n",
              "</table>\n",
              "<p>5 rows × 42 columns</p>\n",
              "</div>"
            ],
            "text/plain": [
              "   Q3A  Q5A  Q10A  Q13A  Q16A  Q17A  Q21A  Q24A  Q26A  Q31A  ...  \\\n",
              "0    1    3     0     3     3     2     0     3     3     3  ...   \n",
              "1    1    3     1     3     2     3     1     1     2     1  ...   \n",
              "2    3    3     3     3     3     3     3     3     0     3  ...   \n",
              "3    1    2     2     0     1     2     0     0     1     2  ...   \n",
              "4    2    3     2     3     2     3     2     1     3     2  ...   \n",
              "\n",
              "   uniquenetworklocation  hand  religion  orientation  race voted  married  \\\n",
              "0                      1     1        12            1    10     2        1   \n",
              "1                      1     2         7            3    70     2        1   \n",
              "2                      1     1         4            3    60     1        1   \n",
              "3                      1     2         4            5    70     2        1   \n",
              "4                      2     3        10            1    10     2        1   \n",
              "\n",
              "   familysize       major         Age_Groups  \n",
              "0           2   No Degree   Primary Children  \n",
              "1           4   No Degree   Primary Children  \n",
              "2           3   No Degree           teenager  \n",
              "3           5     Biology   Primary Children  \n",
              "4           4  Psychology           teenager  \n",
              "\n",
              "[5 rows x 42 columns]"
            ]
          },
          "execution_count": 214,
          "metadata": {},
          "output_type": "execute_result"
        }
      ],
      "source": [
        "Depression_set=pd.merge(depression_set,Filtered_data,how='left',left_index=True,right_index=True)\n",
        "Depression_set.head()"
      ]
    },
    {
      "cell_type": "markdown",
      "metadata": {
        "id": "-PTy4pfcdbT0"
      },
      "source": [
        "Create a new column name 'Depression_Condition' based on the value in total count and categorise it into 'Normal', 'Mild', 'Moderate', 'Severe', and 'Extremely Severe'"
      ]
    },
    {
      "cell_type": "code",
      "execution_count": 215,
      "metadata": {
        "colab": {
          "base_uri": "https://localhost:8080/",
          "height": 235
        },
        "id": "WkJ8LYTkYhN0",
        "outputId": "09041e69-caaa-402b-e013-455c2c52b6c9"
      },
      "outputs": [
        {
          "data": {
            "text/html": [
              "<div>\n",
              "<style scoped>\n",
              "    .dataframe tbody tr th:only-of-type {\n",
              "        vertical-align: middle;\n",
              "    }\n",
              "\n",
              "    .dataframe tbody tr th {\n",
              "        vertical-align: top;\n",
              "    }\n",
              "\n",
              "    .dataframe thead th {\n",
              "        text-align: right;\n",
              "    }\n",
              "</style>\n",
              "<table border=\"1\" class=\"dataframe\">\n",
              "  <thead>\n",
              "    <tr style=\"text-align: right;\">\n",
              "      <th></th>\n",
              "      <th>Q3A</th>\n",
              "      <th>Q5A</th>\n",
              "      <th>Q10A</th>\n",
              "      <th>Q13A</th>\n",
              "      <th>Q16A</th>\n",
              "      <th>Q17A</th>\n",
              "      <th>Q21A</th>\n",
              "      <th>Q24A</th>\n",
              "      <th>Q26A</th>\n",
              "      <th>Q31A</th>\n",
              "      <th>...</th>\n",
              "      <th>hand</th>\n",
              "      <th>religion</th>\n",
              "      <th>orientation</th>\n",
              "      <th>race</th>\n",
              "      <th>voted</th>\n",
              "      <th>married</th>\n",
              "      <th>familysize</th>\n",
              "      <th>major</th>\n",
              "      <th>Age_Groups</th>\n",
              "      <th>Depression_Condition</th>\n",
              "    </tr>\n",
              "  </thead>\n",
              "  <tbody>\n",
              "    <tr>\n",
              "      <th>0</th>\n",
              "      <td>1</td>\n",
              "      <td>3</td>\n",
              "      <td>0</td>\n",
              "      <td>3</td>\n",
              "      <td>3</td>\n",
              "      <td>2</td>\n",
              "      <td>0</td>\n",
              "      <td>3</td>\n",
              "      <td>3</td>\n",
              "      <td>3</td>\n",
              "      <td>...</td>\n",
              "      <td>1</td>\n",
              "      <td>12</td>\n",
              "      <td>1</td>\n",
              "      <td>10</td>\n",
              "      <td>2</td>\n",
              "      <td>1</td>\n",
              "      <td>2</td>\n",
              "      <td>No Degree</td>\n",
              "      <td>Primary Children</td>\n",
              "      <td>Severe</td>\n",
              "    </tr>\n",
              "    <tr>\n",
              "      <th>1</th>\n",
              "      <td>1</td>\n",
              "      <td>3</td>\n",
              "      <td>1</td>\n",
              "      <td>3</td>\n",
              "      <td>2</td>\n",
              "      <td>3</td>\n",
              "      <td>1</td>\n",
              "      <td>1</td>\n",
              "      <td>2</td>\n",
              "      <td>1</td>\n",
              "      <td>...</td>\n",
              "      <td>2</td>\n",
              "      <td>7</td>\n",
              "      <td>3</td>\n",
              "      <td>70</td>\n",
              "      <td>2</td>\n",
              "      <td>1</td>\n",
              "      <td>4</td>\n",
              "      <td>No Degree</td>\n",
              "      <td>Primary Children</td>\n",
              "      <td>Severe</td>\n",
              "    </tr>\n",
              "    <tr>\n",
              "      <th>2</th>\n",
              "      <td>3</td>\n",
              "      <td>3</td>\n",
              "      <td>3</td>\n",
              "      <td>3</td>\n",
              "      <td>3</td>\n",
              "      <td>3</td>\n",
              "      <td>3</td>\n",
              "      <td>3</td>\n",
              "      <td>0</td>\n",
              "      <td>3</td>\n",
              "      <td>...</td>\n",
              "      <td>1</td>\n",
              "      <td>4</td>\n",
              "      <td>3</td>\n",
              "      <td>60</td>\n",
              "      <td>1</td>\n",
              "      <td>1</td>\n",
              "      <td>3</td>\n",
              "      <td>No Degree</td>\n",
              "      <td>teenager</td>\n",
              "      <td>Extremely Severe</td>\n",
              "    </tr>\n",
              "    <tr>\n",
              "      <th>3</th>\n",
              "      <td>1</td>\n",
              "      <td>2</td>\n",
              "      <td>2</td>\n",
              "      <td>0</td>\n",
              "      <td>1</td>\n",
              "      <td>2</td>\n",
              "      <td>0</td>\n",
              "      <td>0</td>\n",
              "      <td>1</td>\n",
              "      <td>2</td>\n",
              "      <td>...</td>\n",
              "      <td>2</td>\n",
              "      <td>4</td>\n",
              "      <td>5</td>\n",
              "      <td>70</td>\n",
              "      <td>2</td>\n",
              "      <td>1</td>\n",
              "      <td>5</td>\n",
              "      <td>Biology</td>\n",
              "      <td>Primary Children</td>\n",
              "      <td>Moderate</td>\n",
              "    </tr>\n",
              "    <tr>\n",
              "      <th>4</th>\n",
              "      <td>2</td>\n",
              "      <td>3</td>\n",
              "      <td>2</td>\n",
              "      <td>3</td>\n",
              "      <td>2</td>\n",
              "      <td>3</td>\n",
              "      <td>2</td>\n",
              "      <td>1</td>\n",
              "      <td>3</td>\n",
              "      <td>2</td>\n",
              "      <td>...</td>\n",
              "      <td>3</td>\n",
              "      <td>10</td>\n",
              "      <td>1</td>\n",
              "      <td>10</td>\n",
              "      <td>2</td>\n",
              "      <td>1</td>\n",
              "      <td>4</td>\n",
              "      <td>Psychology</td>\n",
              "      <td>teenager</td>\n",
              "      <td>Extremely Severe</td>\n",
              "    </tr>\n",
              "  </tbody>\n",
              "</table>\n",
              "<p>5 rows × 43 columns</p>\n",
              "</div>"
            ],
            "text/plain": [
              "   Q3A  Q5A  Q10A  Q13A  Q16A  Q17A  Q21A  Q24A  Q26A  Q31A  ...  hand  \\\n",
              "0    1    3     0     3     3     2     0     3     3     3  ...     1   \n",
              "1    1    3     1     3     2     3     1     1     2     1  ...     2   \n",
              "2    3    3     3     3     3     3     3     3     0     3  ...     1   \n",
              "3    1    2     2     0     1     2     0     0     1     2  ...     2   \n",
              "4    2    3     2     3     2     3     2     1     3     2  ...     3   \n",
              "\n",
              "   religion  orientation  race  voted married  familysize       major  \\\n",
              "0        12            1    10      2       1           2   No Degree   \n",
              "1         7            3    70      2       1           4   No Degree   \n",
              "2         4            3    60      1       1           3   No Degree   \n",
              "3         4            5    70      2       1           5     Biology   \n",
              "4        10            1    10      2       1           4  Psychology   \n",
              "\n",
              "          Age_Groups  Depression_Condition  \n",
              "0   Primary Children                Severe  \n",
              "1   Primary Children                Severe  \n",
              "2           teenager      Extremely Severe  \n",
              "3   Primary Children              Moderate  \n",
              "4           teenager      Extremely Severe  \n",
              "\n",
              "[5 rows x 43 columns]"
            ]
          },
          "execution_count": 215,
          "metadata": {},
          "output_type": "execute_result"
        }
      ],
      "source": [
        "def condition(x):\n",
        "    if x<=9:\n",
        "        return 'Normal'\n",
        "    if  10<=x<=13:\n",
        "        return 'Mild'\n",
        "    if 14<=x<=20:\n",
        "        return 'Moderate'\n",
        "    if 21<=x<=27:\n",
        "        return 'Severe'\n",
        "    if x>28:\n",
        "        return 'Extremely Severe'\n",
        "\n",
        "Depression_set['Depression_Condition']=Depression_set['Total_Count'].apply(condition)\n",
        "Depression_set.head()"
      ]
    },
    {
      "cell_type": "markdown",
      "metadata": {
        "id": "UZ6e1UX2nBU2"
      },
      "source": [
        "Display the Depression_condition on a bar chart to have an overview"
      ]
    },
    {
      "cell_type": "code",
      "execution_count": 216,
      "metadata": {
        "colab": {
          "base_uri": "https://localhost:8080/",
          "height": 544
        },
        "id": "2EVrOc4oYkor",
        "outputId": "a384ef1a-b2b9-45b4-85ff-163019ad070e"
      },
      "outputs": [
        {
          "name": "stderr",
          "output_type": "stream",
          "text": [
            "c:\\Users\\User\\AppData\\Local\\Programs\\Python\\Python310\\lib\\site-packages\\seaborn\\_decorators.py:36: FutureWarning: Pass the following variable as a keyword arg: x. From version 0.12, the only valid positional argument will be `data`, and passing other arguments without an explicit keyword will result in an error or misinterpretation.\n",
            "  warnings.warn(\n"
          ]
        },
        {
          "data": {
            "text/plain": [
              "Text(0.5, 1.0, 'Participant Depression Level')"
            ]
          },
          "execution_count": 216,
          "metadata": {},
          "output_type": "execute_result"
        },
        {
          "data": {
            "image/png": "[encoded data removed]",
            "text/plain": [
              "<Figure size 1080x504 with 1 Axes>"
            ]
          },
          "metadata": {
            "needs_background": "light"
          },
          "output_type": "display_data"
        }
      ],
      "source": [
        "plt.figure(figsize=(15,7))\n",
        "sns.countplot(Depression_set.sort_values('Depression_Condition').Depression_Condition)\n",
        "plt.title('Participant Depression Level',fontsize=30)"
      ]
    },
    {
      "cell_type": "markdown",
      "metadata": {
        "id": "i45JBlgIpgUR"
      },
      "source": [
        "Changing variables for Correlation"
      ]
    },
    {
      "cell_type": "code",
      "execution_count": 217,
      "metadata": {
        "colab": {
          "base_uri": "https://localhost:8080/",
          "height": 279
        },
        "id": "CaqUHlAEYmsr",
        "outputId": "bc1e1894-4c87-4d7e-a9b5-17f9d661db5c"
      },
      "outputs": [
        {
          "data": {
            "text/html": [
              "<div>\n",
              "<style scoped>\n",
              "    .dataframe tbody tr th:only-of-type {\n",
              "        vertical-align: middle;\n",
              "    }\n",
              "\n",
              "    .dataframe tbody tr th {\n",
              "        vertical-align: top;\n",
              "    }\n",
              "\n",
              "    .dataframe thead th {\n",
              "        text-align: right;\n",
              "    }\n",
              "</style>\n",
              "<table border=\"1\" class=\"dataframe\">\n",
              "  <thead>\n",
              "    <tr style=\"text-align: right;\">\n",
              "      <th></th>\n",
              "      <th>Q3A</th>\n",
              "      <th>Q5A</th>\n",
              "      <th>Q10A</th>\n",
              "      <th>Q13A</th>\n",
              "      <th>Q16A</th>\n",
              "      <th>Q17A</th>\n",
              "      <th>Q21A</th>\n",
              "      <th>Q24A</th>\n",
              "      <th>Q26A</th>\n",
              "      <th>Q31A</th>\n",
              "      <th>...</th>\n",
              "      <th>religion</th>\n",
              "      <th>orientation</th>\n",
              "      <th>race</th>\n",
              "      <th>voted</th>\n",
              "      <th>married</th>\n",
              "      <th>familysize</th>\n",
              "      <th>major</th>\n",
              "      <th>Age_Groups</th>\n",
              "      <th>Depression_Condition</th>\n",
              "      <th>Depression_level</th>\n",
              "    </tr>\n",
              "  </thead>\n",
              "  <tbody>\n",
              "    <tr>\n",
              "      <th>0</th>\n",
              "      <td>1</td>\n",
              "      <td>3</td>\n",
              "      <td>0</td>\n",
              "      <td>3</td>\n",
              "      <td>3</td>\n",
              "      <td>2</td>\n",
              "      <td>0</td>\n",
              "      <td>3</td>\n",
              "      <td>3</td>\n",
              "      <td>3</td>\n",
              "      <td>...</td>\n",
              "      <td>12</td>\n",
              "      <td>1</td>\n",
              "      <td>10</td>\n",
              "      <td>2</td>\n",
              "      <td>1</td>\n",
              "      <td>2</td>\n",
              "      <td>No Degree</td>\n",
              "      <td>1</td>\n",
              "      <td>Severe</td>\n",
              "      <td>3.0</td>\n",
              "    </tr>\n",
              "    <tr>\n",
              "      <th>1</th>\n",
              "      <td>1</td>\n",
              "      <td>3</td>\n",
              "      <td>1</td>\n",
              "      <td>3</td>\n",
              "      <td>2</td>\n",
              "      <td>3</td>\n",
              "      <td>1</td>\n",
              "      <td>1</td>\n",
              "      <td>2</td>\n",
              "      <td>1</td>\n",
              "      <td>...</td>\n",
              "      <td>7</td>\n",
              "      <td>3</td>\n",
              "      <td>70</td>\n",
              "      <td>2</td>\n",
              "      <td>1</td>\n",
              "      <td>4</td>\n",
              "      <td>No Degree</td>\n",
              "      <td>1</td>\n",
              "      <td>Severe</td>\n",
              "      <td>3.0</td>\n",
              "    </tr>\n",
              "    <tr>\n",
              "      <th>2</th>\n",
              "      <td>3</td>\n",
              "      <td>3</td>\n",
              "      <td>3</td>\n",
              "      <td>3</td>\n",
              "      <td>3</td>\n",
              "      <td>3</td>\n",
              "      <td>3</td>\n",
              "      <td>3</td>\n",
              "      <td>0</td>\n",
              "      <td>3</td>\n",
              "      <td>...</td>\n",
              "      <td>4</td>\n",
              "      <td>3</td>\n",
              "      <td>60</td>\n",
              "      <td>1</td>\n",
              "      <td>1</td>\n",
              "      <td>3</td>\n",
              "      <td>No Degree</td>\n",
              "      <td>2</td>\n",
              "      <td>Extremely Severe</td>\n",
              "      <td>4.0</td>\n",
              "    </tr>\n",
              "    <tr>\n",
              "      <th>3</th>\n",
              "      <td>1</td>\n",
              "      <td>2</td>\n",
              "      <td>2</td>\n",
              "      <td>0</td>\n",
              "      <td>1</td>\n",
              "      <td>2</td>\n",
              "      <td>0</td>\n",
              "      <td>0</td>\n",
              "      <td>1</td>\n",
              "      <td>2</td>\n",
              "      <td>...</td>\n",
              "      <td>4</td>\n",
              "      <td>5</td>\n",
              "      <td>70</td>\n",
              "      <td>2</td>\n",
              "      <td>1</td>\n",
              "      <td>5</td>\n",
              "      <td>Biology</td>\n",
              "      <td>1</td>\n",
              "      <td>Moderate</td>\n",
              "      <td>2.0</td>\n",
              "    </tr>\n",
              "    <tr>\n",
              "      <th>4</th>\n",
              "      <td>2</td>\n",
              "      <td>3</td>\n",
              "      <td>2</td>\n",
              "      <td>3</td>\n",
              "      <td>2</td>\n",
              "      <td>3</td>\n",
              "      <td>2</td>\n",
              "      <td>1</td>\n",
              "      <td>3</td>\n",
              "      <td>2</td>\n",
              "      <td>...</td>\n",
              "      <td>10</td>\n",
              "      <td>1</td>\n",
              "      <td>10</td>\n",
              "      <td>2</td>\n",
              "      <td>1</td>\n",
              "      <td>4</td>\n",
              "      <td>Psychology</td>\n",
              "      <td>2</td>\n",
              "      <td>Extremely Severe</td>\n",
              "      <td>4.0</td>\n",
              "    </tr>\n",
              "  </tbody>\n",
              "</table>\n",
              "<p>5 rows × 42 columns</p>\n",
              "</div>"
            ],
            "text/plain": [
              "   Q3A  Q5A  Q10A  Q13A  Q16A  Q17A  Q21A  Q24A  Q26A  Q31A  ...  religion  \\\n",
              "0    1    3     0     3     3     2     0     3     3     3  ...        12   \n",
              "1    1    3     1     3     2     3     1     1     2     1  ...         7   \n",
              "2    3    3     3     3     3     3     3     3     0     3  ...         4   \n",
              "3    1    2     2     0     1     2     0     0     1     2  ...         4   \n",
              "4    2    3     2     3     2     3     2     1     3     2  ...        10   \n",
              "\n",
              "   orientation  race  voted married  familysize       major  Age_Groups  \\\n",
              "0            1    10      2       1           2   No Degree           1   \n",
              "1            3    70      2       1           4   No Degree           1   \n",
              "2            3    60      1       1           3   No Degree           2   \n",
              "3            5    70      2       1           5     Biology           1   \n",
              "4            1    10      2       1           4  Psychology           2   \n",
              "\n",
              "   Depression_Condition  Depression_level  \n",
              "0                Severe               3.0  \n",
              "1                Severe               3.0  \n",
              "2      Extremely Severe               4.0  \n",
              "3              Moderate               2.0  \n",
              "4      Extremely Severe               4.0  \n",
              "\n",
              "[5 rows x 42 columns]"
            ]
          },
          "execution_count": 217,
          "metadata": {},
          "output_type": "execute_result"
        }
      ],
      "source": [
        "Depression_setCopy=Depression_set.copy()\n",
        "def condition(x):\n",
        "    if x<=9:\n",
        "        return 0\n",
        "    if  10<=x<=13:\n",
        "        return 1\n",
        "    if 14<=x<=20:\n",
        "        return 2\n",
        "    if 21<=x<=27:\n",
        "        return 3\n",
        "    if x>28:\n",
        "        return 4\n",
        "\n",
        "def cond(x):\n",
        "    if x<=10:\n",
        "        return 0\n",
        "    if  10<=x<=16:\n",
        "        return 1\n",
        "    if 17<=x<=21:\n",
        "        return 2\n",
        "    if 21<=x<=35:\n",
        "        return 3\n",
        "    if 36<=x<=48:\n",
        "        return 4\n",
        "    if x>=49:\n",
        "        return 5\n",
        "Depression_setCopy['Depression_level']=Depression_setCopy['Total_Count'].apply(condition)\n",
        "Depression_setCopy['Age_Groups']=Depression_setCopy['age'].apply(cond)\n",
        "Depression_setCopy=Depression_setCopy.drop(columns=['age','Total_Count'])\n",
        "Depression_setCopy.head()"
      ]
    },
    {
      "cell_type": "markdown",
      "metadata": {
        "id": "bvzAILuapltg"
      },
      "source": [
        "Create a heatmap for better overview"
      ]
    },
    {
      "cell_type": "code",
      "execution_count": 218,
      "metadata": {
        "colab": {
          "base_uri": "https://localhost:8080/",
          "height": 1000
        },
        "id": "jcifx8q8YpIM",
        "outputId": "aa486b6b-2535-4ee4-d21e-6f6d895d514f"
      },
      "outputs": [
        {
          "data": {
            "text/plain": [
              "<AxesSubplot:>"
            ]
          },
          "execution_count": 218,
          "metadata": {},
          "output_type": "execute_result"
        },
        {
          "data": {
            "image/png": "[encoded data removed]",
            "text/plain": [
              "<Figure size 1080x1080 with 2 Axes>"
            ]
          },
          "metadata": {
            "needs_background": "light"
          },
          "output_type": "display_data"
        }
      ],
      "source": [
        "plt.figure(figsize=(15,15))\n",
        "sns.heatmap(Depression_setCopy.corr(),vmin=-1,vmax=1,cmap=sns.diverging_palette(20,220,n=200),)"
      ]
    },
    {
      "cell_type": "markdown",
      "metadata": {
        "id": "IxQfMf5dqOPv"
      },
      "source": [
        "# Gender\n"
      ]
    },
    {
      "cell_type": "markdown",
      "metadata": {
        "id": "b9sXk_jrsqrd"
      },
      "source": [
        "In this case gender are represented by the value\n",
        "\n",
        "\n",
        "\n",
        "*   1 = Male\n",
        "*   2 = Female\n",
        "*   3 = Not Stated\n",
        "\n"
      ]
    },
    {
      "cell_type": "markdown",
      "metadata": {
        "id": "EiDC7mTotghk"
      },
      "source": [
        "Display the number of participant as of Gender in this data set"
      ]
    },
    {
      "cell_type": "code",
      "execution_count": 219,
      "metadata": {
        "colab": {
          "base_uri": "https://localhost:8080/"
        },
        "id": "i4pnSgDCs65l",
        "outputId": "2e630df8-afcf-4c6d-8131-08dfa86734b3"
      },
      "outputs": [
        {
          "name": "stdout",
          "output_type": "stream",
          "text": [
            "Number of participant as of Gender\n"
          ]
        },
        {
          "data": {
            "text/plain": [
              "2    30366\n",
              "1     8788\n",
              "3      619\n",
              "Name: gender, dtype: int64"
            ]
          },
          "execution_count": 219,
          "metadata": {},
          "output_type": "execute_result"
        }
      ],
      "source": [
        "print('Number of participant as of Gender')\n",
        "Depression_set['gender'].value_counts()"
      ]
    },
    {
      "cell_type": "code",
      "execution_count": 220,
      "metadata": {
        "colab": {
          "base_uri": "https://localhost:8080/",
          "height": 543
        },
        "id": "Hv_KxvKws7_d",
        "outputId": "2bdb05db-4248-48a0-f2f7-5a2ae05b252a"
      },
      "outputs": [
        {
          "name": "stderr",
          "output_type": "stream",
          "text": [
            "c:\\Users\\User\\AppData\\Local\\Programs\\Python\\Python310\\lib\\site-packages\\seaborn\\_decorators.py:36: FutureWarning: Pass the following variable as a keyword arg: x. From version 0.12, the only valid positional argument will be `data`, and passing other arguments without an explicit keyword will result in an error or misinterpretation.\n",
            "  warnings.warn(\n"
          ]
        },
        {
          "data": {
            "text/plain": [
              "Text(0.5, 1.0, 'Depression level of Different Gender')"
            ]
          },
          "execution_count": 220,
          "metadata": {},
          "output_type": "execute_result"
        },
        {
          "data": {
            "image/png": "[encoded data removed]",
            "text/plain": [
              "<Figure size 1080x504 with 1 Axes>"
            ]
          },
          "metadata": {
            "needs_background": "light"
          },
          "output_type": "display_data"
        }
      ],
      "source": [
        "plt.figure(figsize=(15,7))\n",
        "sns.countplot(Depression_set.sort_values('gender').gender,hue=Depression_set['Depression_Condition'],palette='flare')\n",
        "plt.title('Depression level of Different Gender',fontsize=30)"
      ]
    },
    {
      "cell_type": "markdown",
      "metadata": {
        "id": "qUulMqwlwYX4"
      },
      "source": [
        "# Martial Status "
      ]
    },
    {
      "cell_type": "markdown",
      "metadata": {
        "id": "wXwTxiccwdcP"
      },
      "source": [
        "In this case gender are represented by the value\n",
        "\n",
        "*   1 = No Married\n",
        "*   2 = current Married\n",
        "*   3 = Previously Maried"
      ]
    },
    {
      "cell_type": "code",
      "execution_count": 221,
      "metadata": {
        "colab": {
          "base_uri": "https://localhost:8080/"
        },
        "id": "TWOMEONZxG2l",
        "outputId": "de5665e8-4b51-464f-f044-a1463a9eaab3"
      },
      "outputs": [
        {
          "name": "stdout",
          "output_type": "stream",
          "text": [
            "Married status\n"
          ]
        },
        {
          "data": {
            "text/plain": [
              "1    34130\n",
              "2     4357\n",
              "3     1286\n",
              "Name: married, dtype: int64"
            ]
          },
          "execution_count": 221,
          "metadata": {},
          "output_type": "execute_result"
        }
      ],
      "source": [
        "print('Married status'),\n",
        "Depression_set['married'].value_counts() "
      ]
    },
    {
      "cell_type": "code",
      "execution_count": 222,
      "metadata": {
        "colab": {
          "base_uri": "https://localhost:8080/",
          "height": 543
        },
        "id": "XvOh21BmxMem",
        "outputId": "65c72c34-2373-4551-85ba-a8e5f1e0e2fa"
      },
      "outputs": [
        {
          "name": "stderr",
          "output_type": "stream",
          "text": [
            "c:\\Users\\User\\AppData\\Local\\Programs\\Python\\Python310\\lib\\site-packages\\seaborn\\_decorators.py:36: FutureWarning: Pass the following variable as a keyword arg: x. From version 0.12, the only valid positional argument will be `data`, and passing other arguments without an explicit keyword will result in an error or misinterpretation.\n",
            "  warnings.warn(\n"
          ]
        },
        {
          "data": {
            "text/plain": [
              "Text(0.5, 1.0, 'Depression level of People based on Martial status')"
            ]
          },
          "execution_count": 222,
          "metadata": {},
          "output_type": "execute_result"
        },
        {
          "data": {
            "image/png": "[encoded data removed]",
            "text/plain": [
              "<Figure size 1080x504 with 1 Axes>"
            ]
          },
          "metadata": {
            "needs_background": "light"
          },
          "output_type": "display_data"
        }
      ],
      "source": [
        "plt.figure(figsize=(15,7))\n",
        "sns.countplot(Depression_set.sort_values('married').married,hue=Depression_set['Depression_Condition'],palette='rocket')\n",
        "plt.title('Depression level of People based on Martial status',fontsize=30)"
      ]
    },
    {
      "cell_type": "markdown",
      "metadata": {
        "id": "B4UnuUVk5y0K"
      },
      "source": [
        "# Religions"
      ]
    },
    {
      "cell_type": "markdown",
      "metadata": {
        "id": "aNDBFvd053AH"
      },
      "source": [
        "In this case Religions are represented by the value\n",
        "\n",
        "*   1=Agnostic\n",
        "*   2=Atheist\n",
        "*   3=Buddhist\n",
        "*   4=Christian (Catholic)\n",
        "*   5=Christian (Mormon)\n",
        "*   6=Christian (Protestant)\n",
        "*   7=Christian (Other)\n",
        "*   8=Hindu\n",
        "*   9=Jewish\n",
        "*   10=Muslim\n",
        "*   11=Sikh\n",
        "*   12=Other\n",
        "\n"
      ]
    },
    {
      "cell_type": "code",
      "execution_count": 223,
      "metadata": {
        "colab": {
          "base_uri": "https://localhost:8080/"
        },
        "id": "o5YZs2ri6fhY",
        "outputId": "0f6f8b7e-7933-492c-b931-125d4c98e7c3"
      },
      "outputs": [
        {
          "data": {
            "text/plain": [
              "10    22073\n",
              "2      3845\n",
              "1      3244\n",
              "4      3097\n",
              "7      2254\n",
              "12     1804\n",
              "6      1544\n",
              "3       882\n",
              "8       700\n",
              "9       144\n",
              "5       122\n",
              "11       64\n",
              "Name: religion, dtype: int64"
            ]
          },
          "execution_count": 223,
          "metadata": {},
          "output_type": "execute_result"
        }
      ],
      "source": [
        "Depression_set['religion'].value_counts()"
      ]
    },
    {
      "cell_type": "code",
      "execution_count": 224,
      "metadata": {
        "colab": {
          "base_uri": "https://localhost:8080/",
          "height": 543
        },
        "id": "SmupgXl08jRk",
        "outputId": "591c49a2-92cb-42e6-c38b-9c20417ab5fd"
      },
      "outputs": [
        {
          "name": "stderr",
          "output_type": "stream",
          "text": [
            "c:\\Users\\User\\AppData\\Local\\Programs\\Python\\Python310\\lib\\site-packages\\seaborn\\_decorators.py:36: FutureWarning: Pass the following variable as a keyword arg: x. From version 0.12, the only valid positional argument will be `data`, and passing other arguments without an explicit keyword will result in an error or misinterpretation.\n",
            "  warnings.warn(\n"
          ]
        },
        {
          "data": {
            "text/plain": [
              "Text(0.5, 1.0, 'Depression Condition as per Religion')"
            ]
          },
          "execution_count": 224,
          "metadata": {},
          "output_type": "execute_result"
        },
        {
          "data": {
            "image/png": "[encoded data removed]",
            "text/plain": [
              "<Figure size 1080x504 with 1 Axes>"
            ]
          },
          "metadata": {
            "needs_background": "light"
          },
          "output_type": "display_data"
        }
      ],
      "source": [
        "plt.figure(figsize=(15,7))\n",
        "a=sns.countplot(Depression_set.sort_values('religion').religion,hue=Depression_set['Depression_Condition'],palette='flare')\n",
        "plt.title('Depression Condition as per Religion',fontsize=30)"
      ]
    },
    {
      "cell_type": "markdown",
      "metadata": {
        "id": "JFeoT2OV9qV0"
      },
      "source": [
        "# Races"
      ]
    },
    {
      "cell_type": "markdown",
      "metadata": {
        "id": "d8Izt-X49vrC"
      },
      "source": [
        "In this case Races are represented by the value\n",
        "\n",
        "*   10=Asian\n",
        "*   20=Arab\n",
        "*   30=Black\n",
        "*   40=Indigenous Australian\n",
        "*   50=Native American\n",
        "*   60=White\n",
        "*   70=Other"
      ]
    },
    {
      "cell_type": "code",
      "execution_count": 225,
      "metadata": {
        "colab": {
          "base_uri": "https://localhost:8080/"
        },
        "id": "h6Jc6ESB-H9w",
        "outputId": "e50f892c-fcce-4923-cd9a-456ac84e3140"
      },
      "outputs": [
        {
          "name": "stdout",
          "output_type": "stream",
          "text": [
            "Number of participants as per races\n"
          ]
        },
        {
          "data": {
            "text/plain": [
              "10    23106\n",
              "60    10657\n",
              "70     4832\n",
              "30      603\n",
              "20      333\n",
              "50      220\n",
              "40       22\n",
              "Name: race, dtype: int64"
            ]
          },
          "execution_count": 225,
          "metadata": {},
          "output_type": "execute_result"
        }
      ],
      "source": [
        "print('Number of participants as per races')\n",
        "Depression_set['race'].value_counts()"
      ]
    },
    {
      "cell_type": "code",
      "execution_count": 226,
      "metadata": {
        "colab": {
          "base_uri": "https://localhost:8080/",
          "height": 543
        },
        "id": "dIOeW-yi-b38",
        "outputId": "85ed63ee-7902-4be4-8015-8052b9c5df60"
      },
      "outputs": [
        {
          "name": "stderr",
          "output_type": "stream",
          "text": [
            "c:\\Users\\User\\AppData\\Local\\Programs\\Python\\Python310\\lib\\site-packages\\seaborn\\_decorators.py:36: FutureWarning: Pass the following variable as a keyword arg: x. From version 0.12, the only valid positional argument will be `data`, and passing other arguments without an explicit keyword will result in an error or misinterpretation.\n",
            "  warnings.warn(\n"
          ]
        },
        {
          "data": {
            "text/plain": [
              "Text(0.5, 1.0, 'Depression Condition as per Race')"
            ]
          },
          "execution_count": 226,
          "metadata": {},
          "output_type": "execute_result"
        },
        {
          "data": {
            "image/png": "[encoded data removed]",
            "text/plain": [
              "<Figure size 1080x504 with 1 Axes>"
            ]
          },
          "metadata": {
            "needs_background": "light"
          },
          "output_type": "display_data"
        }
      ],
      "source": [
        "plt.figure(figsize=(15,7))\n",
        "sns.countplot(Depression_set.sort_values('race').race,hue=Depression_set['Depression_Condition'],palette='flare')\n",
        "plt.title('Depression Condition as per Race',fontsize=30)"
      ]
    },
    {
      "cell_type": "markdown",
      "metadata": {
        "id": "9tBgP4SAAALA"
      },
      "source": [
        "# Sexual Orientation"
      ]
    },
    {
      "cell_type": "markdown",
      "metadata": {
        "id": "X2b9cp4UAOc2"
      },
      "source": [
        "In this case Sexual Orientation are represented by the value\n",
        "\n",
        "\n",
        "*  1=Heterosexual\n",
        "*  2=Bisexual\n",
        "*  3=Homosexual\n",
        "*  4=Asexual\n",
        "*  5=Other\n",
        "\n"
      ]
    },
    {
      "cell_type": "code",
      "execution_count": 227,
      "metadata": {
        "colab": {
          "base_uri": "https://localhost:8080/"
        },
        "id": "93IMipAUCnjA",
        "outputId": "26a4ab23-b568-4a57-d59e-4e7c0d60c398"
      },
      "outputs": [
        {
          "name": "stdout",
          "output_type": "stream",
          "text": [
            "Count of answered recorded as per sexual Orientation\n"
          ]
        },
        {
          "data": {
            "text/plain": [
              "1    24269\n",
              "3     5063\n",
              "2     5005\n",
              "5     3460\n",
              "4     1976\n",
              "Name: orientation, dtype: int64"
            ]
          },
          "execution_count": 227,
          "metadata": {},
          "output_type": "execute_result"
        }
      ],
      "source": [
        "print('Count of answered recorded as per sexual Orientation')\n",
        "Depression_set['orientation'].value_counts()"
      ]
    },
    {
      "cell_type": "code",
      "execution_count": 228,
      "metadata": {
        "colab": {
          "base_uri": "https://localhost:8080/",
          "height": 543
        },
        "id": "obz_MkFKDOQp",
        "outputId": "9389846d-cbb5-468b-f9be-4fd652025b88"
      },
      "outputs": [
        {
          "name": "stderr",
          "output_type": "stream",
          "text": [
            "c:\\Users\\User\\AppData\\Local\\Programs\\Python\\Python310\\lib\\site-packages\\seaborn\\_decorators.py:36: FutureWarning: Pass the following variable as a keyword arg: x. From version 0.12, the only valid positional argument will be `data`, and passing other arguments without an explicit keyword will result in an error or misinterpretation.\n",
            "  warnings.warn(\n"
          ]
        },
        {
          "data": {
            "text/plain": [
              "Text(0.5, 1.0, 'Depression Condition as per different sexual Orientations')"
            ]
          },
          "execution_count": 228,
          "metadata": {},
          "output_type": "execute_result"
        },
        {
          "data": {
            "image/png": "[encoded data removed]",
            "text/plain": [
              "<Figure size 1080x504 with 1 Axes>"
            ]
          },
          "metadata": {
            "needs_background": "light"
          },
          "output_type": "display_data"
        }
      ],
      "source": [
        "plt.figure(figsize=(15,7))\n",
        "sns.countplot(Depression_set.sort_values('orientation').orientation,hue=Depression_set['Depression_Condition'],palette='rocket')\n",
        "plt.title('Depression Condition as per different sexual Orientations',fontsize=30)"
      ]
    },
    {
      "cell_type": "markdown",
      "metadata": {
        "id": "g4OXFPiRvNBi"
      },
      "source": [
        "So we can see the data is highly imbalanced, we should perform oversampling"
      ]
    },
    {
      "cell_type": "markdown",
      "metadata": {
        "id": "BkoYi459Da6Q"
      },
      "source": [
        "# Age Groups"
      ]
    },
    {
      "cell_type": "markdown",
      "metadata": {
        "id": "Ugc7BznoDbGf"
      },
      "source": [
        "Age are categorised into these groups\n",
        "\n",
        "* Under 10\n",
        "* Primary(10-16)\n",
        "* Secondary(17-21)\n",
        "* Adults(21-35)\n",
        "* Elder Adults(36-48)\n",
        "* Older people(49+)\n",
        "\n"
      ]
    },
    {
      "cell_type": "code",
      "execution_count": 229,
      "metadata": {
        "colab": {
          "base_uri": "https://localhost:8080/"
        },
        "id": "9i8fQlhxE63a",
        "outputId": "783d820d-0e9a-44c3-c6d0-45a87bf7a014"
      },
      "outputs": [
        {
          "name": "stdout",
          "output_type": "stream",
          "text": [
            "Counts of answered recorded as per age groups\n"
          ]
        },
        {
          "data": {
            "text/plain": [
              "teenager             16188\n",
              "Adults               15388\n",
              " Primary Children     4960\n",
              "Seniors               2081\n",
              "Elderly               1156\n",
              "Name: Age_Groups, dtype: int64"
            ]
          },
          "execution_count": 229,
          "metadata": {},
          "output_type": "execute_result"
        }
      ],
      "source": [
        "print('Counts of answered recorded as per age groups')\n",
        "Depression_set['Age_Groups'].value_counts()"
      ]
    },
    {
      "cell_type": "code",
      "execution_count": 230,
      "metadata": {
        "colab": {
          "base_uri": "https://localhost:8080/",
          "height": 544
        },
        "id": "9CvSqsulFVc0",
        "outputId": "49d9db83-c658-4ab0-89ef-03f0d3b3b686"
      },
      "outputs": [
        {
          "name": "stderr",
          "output_type": "stream",
          "text": [
            "c:\\Users\\User\\AppData\\Local\\Programs\\Python\\Python310\\lib\\site-packages\\seaborn\\_decorators.py:36: FutureWarning: Pass the following variable as a keyword arg: x. From version 0.12, the only valid positional argument will be `data`, and passing other arguments without an explicit keyword will result in an error or misinterpretation.\n",
            "  warnings.warn(\n"
          ]
        },
        {
          "data": {
            "text/plain": [
              "Text(0.5, 1.0, 'Depression Condition as per different Age Groups')"
            ]
          },
          "execution_count": 230,
          "metadata": {},
          "output_type": "execute_result"
        },
        {
          "data": {
            "image/png": "[encoded data removed]",
            "text/plain": [
              "<Figure size 1080x504 with 1 Axes>"
            ]
          },
          "metadata": {
            "needs_background": "light"
          },
          "output_type": "display_data"
        }
      ],
      "source": [
        "plt.figure(figsize=(15,7))\n",
        "sns.countplot(Depression_set.sort_values('Age_Groups').Age_Groups,hue=Depression_set['Depression_Condition'],palette='flare')\n",
        "plt.title('Depression Condition as per different Age Groups',fontsize=30)"
      ]
    },
    {
      "cell_type": "markdown",
      "metadata": {
        "id": "qehCzFn2HVUd"
      },
      "source": [
        "# Education level"
      ]
    },
    {
      "cell_type": "markdown",
      "metadata": {
        "id": "uvXp7_puHc3_"
      },
      "source": [
        "In this case Education level are represented by the value\n",
        "\n",
        "* 1=Less than high school\n",
        "* 2=High school\n",
        "* 3=University degree\n",
        "* 4=Graduate degree"
      ]
    },
    {
      "cell_type": "code",
      "execution_count": 231,
      "metadata": {
        "colab": {
          "base_uri": "https://localhost:8080/"
        },
        "id": "LNk6WfDhHmJf",
        "outputId": "9f9b4cde-aeb0-4975-95d7-5a02320b8f15"
      },
      "outputs": [
        {
          "name": "stdout",
          "output_type": "stream",
          "text": [
            "Counts of answered recorded as per the Education\n"
          ]
        },
        {
          "data": {
            "text/plain": [
              "3    15634\n",
              "2    15065\n",
              "4     5008\n",
              "1     4066\n",
              "Name: education, dtype: int64"
            ]
          },
          "execution_count": 231,
          "metadata": {},
          "output_type": "execute_result"
        }
      ],
      "source": [
        "print('Counts of answered recorded as per the Education')\n",
        "Depression_set['education'].value_counts()"
      ]
    },
    {
      "cell_type": "code",
      "execution_count": 232,
      "metadata": {
        "colab": {
          "base_uri": "https://localhost:8080/",
          "height": 543
        },
        "id": "GhIgAgY1HpMR",
        "outputId": "8db7d71e-3e9c-4833-d3a9-d36253cea454"
      },
      "outputs": [
        {
          "name": "stderr",
          "output_type": "stream",
          "text": [
            "c:\\Users\\User\\AppData\\Local\\Programs\\Python\\Python310\\lib\\site-packages\\seaborn\\_decorators.py:36: FutureWarning: Pass the following variable as a keyword arg: x. From version 0.12, the only valid positional argument will be `data`, and passing other arguments without an explicit keyword will result in an error or misinterpretation.\n",
            "  warnings.warn(\n"
          ]
        },
        {
          "data": {
            "text/plain": [
              "Text(0.5, 1.0, 'Depression Condition as per different Education levels')"
            ]
          },
          "execution_count": 232,
          "metadata": {},
          "output_type": "execute_result"
        },
        {
          "data": {
            "image/png": "[encoded data removed]",
            "text/plain": [
              "<Figure size 1080x504 with 1 Axes>"
            ]
          },
          "metadata": {
            "needs_background": "light"
          },
          "output_type": "display_data"
        }
      ],
      "source": [
        "plt.figure(figsize=(15,7))\n",
        "sns.countplot(Depression_set.sort_values('education').education,hue=Depression_set['Depression_Condition'],palette='rocket')\n",
        "plt.title('Depression Condition as per different Education levels',fontsize=30)"
      ]
    },
    {
      "cell_type": "code",
      "execution_count": 233,
      "metadata": {
        "id": "Q286X8oFLt2P"
      },
      "outputs": [],
      "source": [
        "def change_var(x):\n",
        "    if x=='Primary Children':\n",
        "        return 0\n",
        "    elif x=='Secondary Children':\n",
        "        return 1\n",
        "    elif x=='Adults':\n",
        "        return 2\n",
        "    elif x=='Elder Adults':\n",
        "        return 3\n",
        "    elif x=='Older People':\n",
        "        return 4"
      ]
    },
    {
      "cell_type": "code",
      "execution_count": 234,
      "metadata": {
        "id": "lJ8-_84VLwBb"
      },
      "outputs": [],
      "source": [
        "Depression_set['Age_Groups']=Depression_set['Age_Groups'].apply(change_var)\n"
      ]
    },
    {
      "cell_type": "markdown",
      "metadata": {
        "id": "OEWvkJW3OFyI"
      },
      "source": [
        "what is this code for?\n",
        "TZY: I think first line code drop the rows where at least one element is missing"
      ]
    },
    {
      "cell_type": "code",
      "execution_count": 235,
      "metadata": {
        "colab": {
          "base_uri": "https://localhost:8080/",
          "height": 79
        },
        "id": "BlmJvk9kLwF7",
        "outputId": "63843217-0bea-4580-87a4-a076d82ff711"
      },
      "outputs": [],
      "source": [
        "Depression_set=Depression_set.dropna()\n",
        "Depression_set=Depression_set.drop(columns=['Total_Count','country','age'])"
      ]
    },
    {
      "cell_type": "markdown",
      "metadata": {},
      "source": [
        "# Model Creation for Predictions"
      ]
    },
    {
      "cell_type": "code",
      "execution_count": 236,
      "metadata": {},
      "outputs": [],
      "source": [
        "from sklearn.model_selection import train_test_split,cross_val_score\n",
        "from sklearn.preprocessing import MinMaxScaler\n",
        "from sklearn.ensemble import RandomForestClassifier\n",
        "from sklearn.linear_model import LogisticRegression\n",
        "from sklearn.naive_bayes import GaussianNB\n",
        "from sklearn.tree import DecisionTreeClassifier\n",
        "from sklearn.neighbors import KNeighborsClassifier\n",
        "from sklearn import svm\n",
        "from sklearn.metrics import confusion_matrix,plot_confusion_matrix,accuracy_score,precision_score, recall_score, f1_score,roc_auc_score,classification_report,mean_squared_error"
      ]
    },
    {
      "cell_type": "code",
      "execution_count": 237,
      "metadata": {},
      "outputs": [],
      "source": [
        "# Model"
      ]
    },
    {
      "cell_type": "code",
      "execution_count": 238,
      "metadata": {},
      "outputs": [],
      "source": [
        "scaler = MinMaxScaler()\n",
        "X = Depression_set[['Q3A', 'Q5A', 'Q10A', 'Q13A', 'Q16A', 'Q17A', 'Q21A', 'Q24A', 'Q26A',\n",
        "       'Q31A', 'Q34A', 'Q37A', 'Q38A', 'Q42A',\n",
        "       'Extraverted-enthusiastic', 'Critical-quarrelsome',\n",
        "       'Dependable-self_disciplined', 'Anxious-easily upset',\n",
        "        'Open to new experiences-complex', 'Reserved-quiet', 'Sympathetic-warm',\n",
        "        'Disorganized-careless', 'Calm-emotionally_stable',\n",
        "        'Conventional-uncreative', 'education', 'urban', 'gender', 'engnat',\n",
        "        'screensize', 'uniquenetworklocation', 'hand', 'religion',\n",
        "        'orientation', 'race', 'voted', 'married', 'familysize',\n",
        "        'Age_Groups']]\n",
        "y = Depression_set[['Depression_Condition']]\n",
        "X_train,X_test,y_train,y_test = train_test_split(X,y,test_size=0.35,random_state=0)\n",
        "X_train_scaled = scaler.fit_transform(X_train)\n",
        "X_test_scaled = scaler.transform(X_test)"
      ]
    },
    {
      "cell_type": "code",
      "execution_count": 239,
      "metadata": {},
      "outputs": [
        {
          "name": "stdout",
          "output_type": "stream",
          "text": [
            "Training Set: (9785, 38) (9785, 1)\n",
            "Test Set: (5269, 38) (5269, 1)\n"
          ]
        }
      ],
      "source": [
        "print('Training Set:',X_train.shape,y_train.shape)\n",
        "print('Test Set:',X_test.shape,y_test.shape)"
      ]
    },
    {
      "cell_type": "code",
      "execution_count": 240,
      "metadata": {},
      "outputs": [
        {
          "data": {
            "text/plain": [
              "<seaborn.axisgrid.FacetGrid at 0x2665cc36290>"
            ]
          },
          "execution_count": 240,
          "metadata": {},
          "output_type": "execute_result"
        },
        {
          "data": {
            "image/png": "[encoded data removed]",
            "text/plain": [
              "<Figure size 408.75x360 with 1 Axes>"
            ]
          },
          "metadata": {
            "needs_background": "light"
          },
          "output_type": "display_data"
        }
      ],
      "source": [
        "sns.displot(X_train_scaled)"
      ]
    },
    {
      "cell_type": "code",
      "execution_count": 241,
      "metadata": {},
      "outputs": [
        {
          "data": {
            "text/plain": [
              "<seaborn.axisgrid.FacetGrid at 0x26626b37460>"
            ]
          },
          "execution_count": 241,
          "metadata": {},
          "output_type": "execute_result"
        },
        {
          "data": {
            "image/png": "[encoded data removed]",
            "text/plain": [
              "<Figure size 408.75x360 with 1 Axes>"
            ]
          },
          "metadata": {
            "needs_background": "light"
          },
          "output_type": "display_data"
        }
      ],
      "source": [
        "sns.displot(X_test_scaled)"
      ]
    },
    {
      "cell_type": "markdown",
      "metadata": {},
      "source": [
        "Random Forest"
      ]
    },
    {
      "cell_type": "code",
      "execution_count": 242,
      "metadata": {},
      "outputs": [
        {
          "name": "stderr",
          "output_type": "stream",
          "text": [
            "C:\\Users\\User\\AppData\\Local\\Temp\\ipykernel_19812\\2261255524.py:1: DataConversionWarning: A column-vector y was passed when a 1d array was expected. Please change the shape of y to (n_samples,), for example using ravel().\n",
            "  RanFor=RandomForestClassifier(n_estimators=190,min_samples_split=3,min_samples_leaf=1,max_depth=160,max_features='auto').fit(X_train_scaled,y_train)\n",
            "c:\\Users\\User\\AppData\\Local\\Programs\\Python\\Python310\\lib\\site-packages\\sklearn\\ensemble\\_forest.py:427: FutureWarning: `max_features='auto'` has been deprecated in 1.1 and will be removed in 1.3. To keep the past behaviour, explicitly set `max_features='sqrt'` or remove this parameter as it is also the default value for RandomForestClassifiers and ExtraTreesClassifiers.\n",
            "  warn(\n"
          ]
        },
        {
          "name": "stdout",
          "output_type": "stream",
          "text": [
            "Accuracy: 0.919\n",
            "F1_Score: 0.915\n",
            "Recall_Score: 0.919\n",
            "Precision_Score: 0.918\n"
          ]
        },
        {
          "name": "stderr",
          "output_type": "stream",
          "text": [
            "c:\\Users\\User\\AppData\\Local\\Programs\\Python\\Python310\\lib\\site-packages\\sklearn\\model_selection\\_validation.py:686: DataConversionWarning: A column-vector y was passed when a 1d array was expected. Please change the shape of y to (n_samples,), for example using ravel().\n",
            "  estimator.fit(X_train, y_train, **fit_params)\n",
            "c:\\Users\\User\\AppData\\Local\\Programs\\Python\\Python310\\lib\\site-packages\\sklearn\\ensemble\\_forest.py:427: FutureWarning: `max_features='auto'` has been deprecated in 1.1 and will be removed in 1.3. To keep the past behaviour, explicitly set `max_features='sqrt'` or remove this parameter as it is also the default value for RandomForestClassifiers and ExtraTreesClassifiers.\n",
            "  warn(\n",
            "c:\\Users\\User\\AppData\\Local\\Programs\\Python\\Python310\\lib\\site-packages\\sklearn\\model_selection\\_validation.py:686: DataConversionWarning: A column-vector y was passed when a 1d array was expected. Please change the shape of y to (n_samples,), for example using ravel().\n",
            "  estimator.fit(X_train, y_train, **fit_params)\n",
            "c:\\Users\\User\\AppData\\Local\\Programs\\Python\\Python310\\lib\\site-packages\\sklearn\\ensemble\\_forest.py:427: FutureWarning: `max_features='auto'` has been deprecated in 1.1 and will be removed in 1.3. To keep the past behaviour, explicitly set `max_features='sqrt'` or remove this parameter as it is also the default value for RandomForestClassifiers and ExtraTreesClassifiers.\n",
            "  warn(\n",
            "c:\\Users\\User\\AppData\\Local\\Programs\\Python\\Python310\\lib\\site-packages\\sklearn\\model_selection\\_validation.py:686: DataConversionWarning: A column-vector y was passed when a 1d array was expected. Please change the shape of y to (n_samples,), for example using ravel().\n",
            "  estimator.fit(X_train, y_train, **fit_params)\n",
            "c:\\Users\\User\\AppData\\Local\\Programs\\Python\\Python310\\lib\\site-packages\\sklearn\\ensemble\\_forest.py:427: FutureWarning: `max_features='auto'` has been deprecated in 1.1 and will be removed in 1.3. To keep the past behaviour, explicitly set `max_features='sqrt'` or remove this parameter as it is also the default value for RandomForestClassifiers and ExtraTreesClassifiers.\n",
            "  warn(\n",
            "c:\\Users\\User\\AppData\\Local\\Programs\\Python\\Python310\\lib\\site-packages\\sklearn\\model_selection\\_validation.py:686: DataConversionWarning: A column-vector y was passed when a 1d array was expected. Please change the shape of y to (n_samples,), for example using ravel().\n",
            "  estimator.fit(X_train, y_train, **fit_params)\n",
            "c:\\Users\\User\\AppData\\Local\\Programs\\Python\\Python310\\lib\\site-packages\\sklearn\\ensemble\\_forest.py:427: FutureWarning: `max_features='auto'` has been deprecated in 1.1 and will be removed in 1.3. To keep the past behaviour, explicitly set `max_features='sqrt'` or remove this parameter as it is also the default value for RandomForestClassifiers and ExtraTreesClassifiers.\n",
            "  warn(\n",
            "c:\\Users\\User\\AppData\\Local\\Programs\\Python\\Python310\\lib\\site-packages\\sklearn\\model_selection\\_validation.py:686: DataConversionWarning: A column-vector y was passed when a 1d array was expected. Please change the shape of y to (n_samples,), for example using ravel().\n",
            "  estimator.fit(X_train, y_train, **fit_params)\n",
            "c:\\Users\\User\\AppData\\Local\\Programs\\Python\\Python310\\lib\\site-packages\\sklearn\\ensemble\\_forest.py:427: FutureWarning: `max_features='auto'` has been deprecated in 1.1 and will be removed in 1.3. To keep the past behaviour, explicitly set `max_features='sqrt'` or remove this parameter as it is also the default value for RandomForestClassifiers and ExtraTreesClassifiers.\n",
            "  warn(\n",
            "c:\\Users\\User\\AppData\\Local\\Programs\\Python\\Python310\\lib\\site-packages\\sklearn\\model_selection\\_validation.py:686: DataConversionWarning: A column-vector y was passed when a 1d array was expected. Please change the shape of y to (n_samples,), for example using ravel().\n",
            "  estimator.fit(X_train, y_train, **fit_params)\n",
            "c:\\Users\\User\\AppData\\Local\\Programs\\Python\\Python310\\lib\\site-packages\\sklearn\\ensemble\\_forest.py:427: FutureWarning: `max_features='auto'` has been deprecated in 1.1 and will be removed in 1.3. To keep the past behaviour, explicitly set `max_features='sqrt'` or remove this parameter as it is also the default value for RandomForestClassifiers and ExtraTreesClassifiers.\n",
            "  warn(\n"
          ]
        },
        {
          "name": "stdout",
          "output_type": "stream",
          "text": [
            "Cross Validation Score: 0.91\n",
            "                  precision    recall  f1-score   support\n",
            "\n",
            "Extremely Severe     0.9774    0.9837    0.9806      1538\n",
            "            Mild     0.8644    0.5720    0.6884       535\n",
            "        Moderate     0.8532    0.9254    0.8878      1005\n",
            "          Normal     0.9174    0.9886    0.9517      1315\n",
            "          Severe     0.9233    0.9064    0.9147       876\n",
            "\n",
            "        accuracy                         0.9191      5269\n",
            "       macro avg     0.9071    0.8752    0.8846      5269\n",
            "    weighted avg     0.9183    0.9191    0.9151      5269\n",
            "\n"
          ]
        },
        {
          "name": "stderr",
          "output_type": "stream",
          "text": [
            "c:\\Users\\User\\AppData\\Local\\Programs\\Python\\Python310\\lib\\site-packages\\sklearn\\utils\\deprecation.py:87: FutureWarning: Function plot_confusion_matrix is deprecated; Function `plot_confusion_matrix` is deprecated in 1.0 and will be removed in 1.2. Use one of the class methods: ConfusionMatrixDisplay.from_predictions or ConfusionMatrixDisplay.from_estimator.\n",
            "  warnings.warn(msg, category=FutureWarning)\n"
          ]
        },
        {
          "data": {
            "text/plain": [
              "<sklearn.metrics._plot.confusion_matrix.ConfusionMatrixDisplay at 0x2667f8a4760>"
            ]
          },
          "execution_count": 242,
          "metadata": {},
          "output_type": "execute_result"
        },
        {
          "data": {
            "image/png": "[encoded data removed]",
            "text/plain": [
              "<Figure size 720x720 with 2 Axes>"
            ]
          },
          "metadata": {
            "needs_background": "light"
          },
          "output_type": "display_data"
        }
      ],
      "source": [
        "RanFor=RandomForestClassifier(n_estimators=190,min_samples_split=3,min_samples_leaf=1,max_depth=160,max_features='auto').fit(X_train_scaled,y_train)\n",
        "Acc_ran=round(accuracy_score(y_test,RanFor.predict(X_test_scaled)),3)\n",
        "f1_ran=round(f1_score(y_test,RanFor.predict(X_test_scaled),average='weighted'),3)\n",
        "recall_ran=round(recall_score(y_test,RanFor.predict(X_test_scaled),average='weighted'),3)\n",
        "precision_ran=round(precision_score(y_test,RanFor.predict(X_test_scaled),average='weighted'),3)\n",
        "print('Accuracy:',Acc_ran)\n",
        "print('F1_Score:',f1_ran)\n",
        "print('Recall_Score:',recall_ran)\n",
        "print('Precision_Score:',precision_ran)\n",
        "print('Cross Validation Score:',round(np.mean(cross_val_score(RanFor, X_train_scaled, y_train, cv = 6)),3))\n",
        "classification=classification_report(\n",
        "    digits=4,\n",
        "    y_true=y_test,\n",
        "    y_pred=RanFor.predict(X_test_scaled))\n",
        "print(classification)\n",
        "fig, ax = plt.subplots(figsize=(10, 10))\n",
        "plot_confusion_matrix(RanFor,X_test_scaled,y_test,ax=ax)"
      ]
    },
    {
      "cell_type": "markdown",
      "metadata": {},
      "source": [
        "Decision Trees"
      ]
    },
    {
      "cell_type": "code",
      "execution_count": 243,
      "metadata": {},
      "outputs": [
        {
          "name": "stdout",
          "output_type": "stream",
          "text": [
            "Accuracy: 0.772\n",
            "F1_Score: 0.773\n",
            "Recall_Score: 0.772\n",
            "Precision_Score: 0.775\n",
            "Cross Validation Score: 0.78\n",
            "                  precision    recall  f1-score   support\n",
            "\n",
            "Extremely Severe     0.9104    0.9317    0.9210      1538\n",
            "            Mild     0.4656    0.5439    0.5017       535\n",
            "        Moderate     0.6578    0.6388    0.6482      1005\n",
            "          Normal     0.9059    0.8783    0.8919      1315\n",
            "          Severe     0.6667    0.6233    0.6442       876\n",
            "\n",
            "        accuracy                         0.7719      5269\n",
            "       macro avg     0.7213    0.7232    0.7214      5269\n",
            "    weighted avg     0.7754    0.7719    0.7731      5269\n",
            "\n"
          ]
        },
        {
          "name": "stderr",
          "output_type": "stream",
          "text": [
            "c:\\Users\\User\\AppData\\Local\\Programs\\Python\\Python310\\lib\\site-packages\\sklearn\\utils\\deprecation.py:87: FutureWarning: Function plot_confusion_matrix is deprecated; Function `plot_confusion_matrix` is deprecated in 1.0 and will be removed in 1.2. Use one of the class methods: ConfusionMatrixDisplay.from_predictions or ConfusionMatrixDisplay.from_estimator.\n",
            "  warnings.warn(msg, category=FutureWarning)\n"
          ]
        },
        {
          "data": {
            "text/plain": [
              "<sklearn.metrics._plot.confusion_matrix.ConfusionMatrixDisplay at 0x266817065f0>"
            ]
          },
          "execution_count": 243,
          "metadata": {},
          "output_type": "execute_result"
        },
        {
          "data": {
            "image/png": "[encoded data removed]",
            "text/plain": [
              "<Figure size 720x720 with 2 Axes>"
            ]
          },
          "metadata": {
            "needs_background": "light"
          },
          "output_type": "display_data"
        }
      ],
      "source": [
        "DT=DecisionTreeClassifier(criterion='entropy',splitter='best',min_samples_split=9,min_samples_leaf=2,max_depth=100).fit(X_train_scaled,y_train)\n",
        "Acc_dt=round(accuracy_score(y_test,DT.predict(X_test_scaled)),3)\n",
        "f1_dt=round(f1_score(y_test,DT.predict(X_test_scaled),average='weighted'),3)\n",
        "recall_dt=round(recall_score(y_test,DT.predict(X_test_scaled),average='weighted'),3)\n",
        "precision_dt=round(precision_score(y_test,DT.predict(X_test_scaled),average='weighted'),3)\n",
        "print('Accuracy:',Acc_dt)\n",
        "print('F1_Score:',f1_dt)\n",
        "print('Recall_Score:',recall_dt)\n",
        "print('Precision_Score:',precision_dt)\n",
        "print('Cross Validation Score:',round(np.mean(cross_val_score(DT, X_train_scaled, y_train, cv = 6)),3))\n",
        "classification=classification_report(\n",
        "    digits=4,\n",
        "    y_true=y_test,\n",
        "    y_pred=DT.predict(X_test_scaled))\n",
        "print(classification)\n",
        "fig, ax = plt.subplots(figsize=(10, 10))\n",
        "plot_confusion_matrix(DT,X_test_scaled,y_test,ax=ax)"
      ]
    },
    {
      "cell_type": "markdown",
      "metadata": {},
      "source": [
        "Gaussian Naive Bayes"
      ]
    },
    {
      "cell_type": "code",
      "execution_count": 244,
      "metadata": {},
      "outputs": [
        {
          "name": "stderr",
          "output_type": "stream",
          "text": [
            "c:\\Users\\User\\AppData\\Local\\Programs\\Python\\Python310\\lib\\site-packages\\sklearn\\utils\\validation.py:1111: DataConversionWarning: A column-vector y was passed when a 1d array was expected. Please change the shape of y to (n_samples, ), for example using ravel().\n",
            "  y = column_or_1d(y, warn=True)\n",
            "c:\\Users\\User\\AppData\\Local\\Programs\\Python\\Python310\\lib\\site-packages\\sklearn\\utils\\validation.py:1111: DataConversionWarning: A column-vector y was passed when a 1d array was expected. Please change the shape of y to (n_samples, ), for example using ravel().\n",
            "  y = column_or_1d(y, warn=True)\n",
            "c:\\Users\\User\\AppData\\Local\\Programs\\Python\\Python310\\lib\\site-packages\\sklearn\\utils\\validation.py:1111: DataConversionWarning: A column-vector y was passed when a 1d array was expected. Please change the shape of y to (n_samples, ), for example using ravel().\n",
            "  y = column_or_1d(y, warn=True)\n"
          ]
        },
        {
          "name": "stdout",
          "output_type": "stream",
          "text": [
            "Accuracy: 0.879\n",
            "F1_Score: 0.884\n",
            "Recall_Score: 0.879\n",
            "Precision_Score: 0.9\n",
            "Cross Validation Score: 0.877\n"
          ]
        },
        {
          "name": "stderr",
          "output_type": "stream",
          "text": [
            "c:\\Users\\User\\AppData\\Local\\Programs\\Python\\Python310\\lib\\site-packages\\sklearn\\utils\\validation.py:1111: DataConversionWarning: A column-vector y was passed when a 1d array was expected. Please change the shape of y to (n_samples, ), for example using ravel().\n",
            "  y = column_or_1d(y, warn=True)\n",
            "c:\\Users\\User\\AppData\\Local\\Programs\\Python\\Python310\\lib\\site-packages\\sklearn\\utils\\validation.py:1111: DataConversionWarning: A column-vector y was passed when a 1d array was expected. Please change the shape of y to (n_samples, ), for example using ravel().\n",
            "  y = column_or_1d(y, warn=True)\n",
            "c:\\Users\\User\\AppData\\Local\\Programs\\Python\\Python310\\lib\\site-packages\\sklearn\\utils\\validation.py:1111: DataConversionWarning: A column-vector y was passed when a 1d array was expected. Please change the shape of y to (n_samples, ), for example using ravel().\n",
            "  y = column_or_1d(y, warn=True)\n",
            "c:\\Users\\User\\AppData\\Local\\Programs\\Python\\Python310\\lib\\site-packages\\sklearn\\utils\\validation.py:1111: DataConversionWarning: A column-vector y was passed when a 1d array was expected. Please change the shape of y to (n_samples, ), for example using ravel().\n",
            "  y = column_or_1d(y, warn=True)\n"
          ]
        },
        {
          "name": "stdout",
          "output_type": "stream",
          "text": [
            "                  precision    recall  f1-score   support\n",
            "\n",
            "Extremely Severe     1.0000    0.8882    0.9408      1538\n",
            "            Mild     0.6180    0.8467    0.7145       535\n",
            "        Moderate     0.8772    0.8527    0.8648      1005\n",
            "          Normal     0.9947    0.8548    0.9194      1315\n",
            "          Severe     0.7827    0.9498    0.8582       876\n",
            "\n",
            "        accuracy                         0.8791      5269\n",
            "       macro avg     0.8545    0.8784    0.8595      5269\n",
            "    weighted avg     0.9003    0.8791    0.8842      5269\n",
            "\n"
          ]
        },
        {
          "name": "stderr",
          "output_type": "stream",
          "text": [
            "c:\\Users\\User\\AppData\\Local\\Programs\\Python\\Python310\\lib\\site-packages\\sklearn\\utils\\deprecation.py:87: FutureWarning: Function plot_confusion_matrix is deprecated; Function `plot_confusion_matrix` is deprecated in 1.0 and will be removed in 1.2. Use one of the class methods: ConfusionMatrixDisplay.from_predictions or ConfusionMatrixDisplay.from_estimator.\n",
            "  warnings.warn(msg, category=FutureWarning)\n"
          ]
        },
        {
          "data": {
            "text/plain": [
              "<sklearn.metrics._plot.confusion_matrix.ConfusionMatrixDisplay at 0x26640cdda50>"
            ]
          },
          "execution_count": 244,
          "metadata": {},
          "output_type": "execute_result"
        },
        {
          "data": {
            "image/png": "[encoded data removed]",
            "text/plain": [
              "<Figure size 720x720 with 2 Axes>"
            ]
          },
          "metadata": {
            "needs_background": "light"
          },
          "output_type": "display_data"
        }
      ],
      "source": [
        "gb=GaussianNB().fit(X_train_scaled,y_train)\n",
        "Acc_gb=round(accuracy_score(y_test,gb.predict(X_test_scaled)),3)\n",
        "f1_gb=round(f1_score(y_test,gb.predict(X_test_scaled),average='weighted'),3)\n",
        "recall_gb=round(recall_score(y_test,gb.predict(X_test_scaled),average='weighted'),3)\n",
        "precision_gb=round(precision_score(y_test,gb.predict(X_test_scaled),average='weighted'),3)\n",
        "print('Accuracy:',Acc_gb)\n",
        "print('F1_Score:',f1_gb)\n",
        "print('Recall_Score:',recall_gb)\n",
        "print('Precision_Score:',precision_gb)\n",
        "print('Cross Validation Score:',round(np.mean(cross_val_score(gb, X_train_scaled, y_train, cv = 6)),3))\n",
        "classification=classification_report(\n",
        "    digits=4,\n",
        "    y_true=y_test,\n",
        "    y_pred=gb.predict(X_test_scaled))\n",
        "print(classification)\n",
        "fig, ax = plt.subplots(figsize=(10, 10))\n",
        "plot_confusion_matrix(gb,X_test_scaled,y_test,ax=ax)"
      ]
    },
    {
      "cell_type": "markdown",
      "metadata": {},
      "source": [
        "Nearest Neighbours"
      ]
    },
    {
      "cell_type": "code",
      "execution_count": 245,
      "metadata": {},
      "outputs": [
        {
          "name": "stderr",
          "output_type": "stream",
          "text": [
            "c:\\Users\\User\\AppData\\Local\\Programs\\Python\\Python310\\lib\\site-packages\\sklearn\\neighbors\\_classification.py:200: DataConversionWarning: A column-vector y was passed when a 1d array was expected. Please change the shape of y to (n_samples,), for example using ravel().\n",
            "  return self._fit(X, y)\n"
          ]
        },
        {
          "name": "stdout",
          "output_type": "stream",
          "text": [
            "Accuracy: 0.858\n",
            "F1_Score: 0.848\n",
            "Recall_Score: 0.858\n",
            "Precision_Score: 0.86\n"
          ]
        },
        {
          "name": "stderr",
          "output_type": "stream",
          "text": [
            "c:\\Users\\User\\AppData\\Local\\Programs\\Python\\Python310\\lib\\site-packages\\sklearn\\neighbors\\_classification.py:200: DataConversionWarning: A column-vector y was passed when a 1d array was expected. Please change the shape of y to (n_samples,), for example using ravel().\n",
            "  return self._fit(X, y)\n",
            "c:\\Users\\User\\AppData\\Local\\Programs\\Python\\Python310\\lib\\site-packages\\sklearn\\neighbors\\_classification.py:200: DataConversionWarning: A column-vector y was passed when a 1d array was expected. Please change the shape of y to (n_samples,), for example using ravel().\n",
            "  return self._fit(X, y)\n",
            "c:\\Users\\User\\AppData\\Local\\Programs\\Python\\Python310\\lib\\site-packages\\sklearn\\neighbors\\_classification.py:200: DataConversionWarning: A column-vector y was passed when a 1d array was expected. Please change the shape of y to (n_samples,), for example using ravel().\n",
            "  return self._fit(X, y)\n",
            "c:\\Users\\User\\AppData\\Local\\Programs\\Python\\Python310\\lib\\site-packages\\sklearn\\neighbors\\_classification.py:200: DataConversionWarning: A column-vector y was passed when a 1d array was expected. Please change the shape of y to (n_samples,), for example using ravel().\n",
            "  return self._fit(X, y)\n",
            "c:\\Users\\User\\AppData\\Local\\Programs\\Python\\Python310\\lib\\site-packages\\sklearn\\neighbors\\_classification.py:200: DataConversionWarning: A column-vector y was passed when a 1d array was expected. Please change the shape of y to (n_samples,), for example using ravel().\n",
            "  return self._fit(X, y)\n",
            "c:\\Users\\User\\AppData\\Local\\Programs\\Python\\Python310\\lib\\site-packages\\sklearn\\neighbors\\_classification.py:200: DataConversionWarning: A column-vector y was passed when a 1d array was expected. Please change the shape of y to (n_samples,), for example using ravel().\n",
            "  return self._fit(X, y)\n"
          ]
        },
        {
          "name": "stdout",
          "output_type": "stream",
          "text": [
            "Cross Validation Score: 0.849\n",
            "                  precision    recall  f1-score   support\n",
            "\n",
            "Extremely Severe     0.9506    0.9883    0.9691      1538\n",
            "            Mild     0.6877    0.4075    0.5117       535\n",
            "        Moderate     0.7226    0.9045    0.8034      1005\n",
            "          Normal     0.8728    0.9810    0.9237      1315\n",
            "          Severe     0.9433    0.6644    0.7796       876\n",
            "\n",
            "        accuracy                         0.8577      5269\n",
            "       macro avg     0.8354    0.7891    0.7975      5269\n",
            "    weighted avg     0.8598    0.8577    0.8482      5269\n",
            "\n"
          ]
        },
        {
          "name": "stderr",
          "output_type": "stream",
          "text": [
            "c:\\Users\\User\\AppData\\Local\\Programs\\Python\\Python310\\lib\\site-packages\\sklearn\\utils\\deprecation.py:87: FutureWarning: Function plot_confusion_matrix is deprecated; Function `plot_confusion_matrix` is deprecated in 1.0 and will be removed in 1.2. Use one of the class methods: ConfusionMatrixDisplay.from_predictions or ConfusionMatrixDisplay.from_estimator.\n",
            "  warnings.warn(msg, category=FutureWarning)\n"
          ]
        },
        {
          "data": {
            "text/plain": [
              "<sklearn.metrics._plot.confusion_matrix.ConfusionMatrixDisplay at 0x266888221a0>"
            ]
          },
          "execution_count": 245,
          "metadata": {},
          "output_type": "execute_result"
        },
        {
          "data": {
            "image/png": "[encoded data removed]",
            "text/plain": [
              "<Figure size 720x720 with 2 Axes>"
            ]
          },
          "metadata": {
            "needs_background": "light"
          },
          "output_type": "display_data"
        }
      ],
      "source": [
        "knn=KNeighborsClassifier(n_neighbors=15).fit(X_train_scaled,y_train)\n",
        "Acc_knn=round(accuracy_score(y_test,knn.predict(X_test_scaled)),3)\n",
        "f1_knn=round(f1_score(y_test,knn.predict(X_test_scaled),average='weighted'),3)\n",
        "recall_knn=round(recall_score(y_test,knn.predict(X_test_scaled),average='weighted'),3)\n",
        "precision_knn=round(precision_score(y_test,knn.predict(X_test_scaled),average='weighted'),3)\n",
        "print('Accuracy:',Acc_knn)\n",
        "print('F1_Score:',f1_knn)\n",
        "print('Recall_Score:',recall_knn)\n",
        "print('Precision_Score:',precision_knn)\n",
        "print('Cross Validation Score:',round(np.mean(cross_val_score(knn, X_train_scaled, y_train, cv = 6)),3))\n",
        "classification=classification_report(\n",
        "    digits=4,\n",
        "    y_true=y_test,\n",
        "    y_pred=knn.predict(X_test_scaled))\n",
        "print(classification)\n",
        "fig, ax = plt.subplots(figsize=(10, 10))\n",
        "plot_confusion_matrix(knn,X_test_scaled,y_test,ax=ax)"
      ]
    },
    {
      "cell_type": "markdown",
      "metadata": {},
      "source": [
        "Support Vector Machines"
      ]
    },
    {
      "cell_type": "code",
      "execution_count": 246,
      "metadata": {},
      "outputs": [
        {
          "name": "stderr",
          "output_type": "stream",
          "text": [
            "c:\\Users\\User\\AppData\\Local\\Programs\\Python\\Python310\\lib\\site-packages\\sklearn\\utils\\validation.py:1111: DataConversionWarning: A column-vector y was passed when a 1d array was expected. Please change the shape of y to (n_samples, ), for example using ravel().\n",
            "  y = column_or_1d(y, warn=True)\n"
          ]
        },
        {
          "name": "stdout",
          "output_type": "stream",
          "text": [
            "Accuracy: 1.0\n",
            "F1_Score: 1.0\n",
            "Recall_Score: 1.0\n",
            "Precision_Score: 1.0\n"
          ]
        },
        {
          "name": "stderr",
          "output_type": "stream",
          "text": [
            "c:\\Users\\User\\AppData\\Local\\Programs\\Python\\Python310\\lib\\site-packages\\sklearn\\utils\\validation.py:1111: DataConversionWarning: A column-vector y was passed when a 1d array was expected. Please change the shape of y to (n_samples, ), for example using ravel().\n",
            "  y = column_or_1d(y, warn=True)\n",
            "c:\\Users\\User\\AppData\\Local\\Programs\\Python\\Python310\\lib\\site-packages\\sklearn\\utils\\validation.py:1111: DataConversionWarning: A column-vector y was passed when a 1d array was expected. Please change the shape of y to (n_samples, ), for example using ravel().\n",
            "  y = column_or_1d(y, warn=True)\n",
            "c:\\Users\\User\\AppData\\Local\\Programs\\Python\\Python310\\lib\\site-packages\\sklearn\\utils\\validation.py:1111: DataConversionWarning: A column-vector y was passed when a 1d array was expected. Please change the shape of y to (n_samples, ), for example using ravel().\n",
            "  y = column_or_1d(y, warn=True)\n",
            "c:\\Users\\User\\AppData\\Local\\Programs\\Python\\Python310\\lib\\site-packages\\sklearn\\utils\\validation.py:1111: DataConversionWarning: A column-vector y was passed when a 1d array was expected. Please change the shape of y to (n_samples, ), for example using ravel().\n",
            "  y = column_or_1d(y, warn=True)\n",
            "c:\\Users\\User\\AppData\\Local\\Programs\\Python\\Python310\\lib\\site-packages\\sklearn\\utils\\validation.py:1111: DataConversionWarning: A column-vector y was passed when a 1d array was expected. Please change the shape of y to (n_samples, ), for example using ravel().\n",
            "  y = column_or_1d(y, warn=True)\n",
            "c:\\Users\\User\\AppData\\Local\\Programs\\Python\\Python310\\lib\\site-packages\\sklearn\\utils\\validation.py:1111: DataConversionWarning: A column-vector y was passed when a 1d array was expected. Please change the shape of y to (n_samples, ), for example using ravel().\n",
            "  y = column_or_1d(y, warn=True)\n"
          ]
        },
        {
          "name": "stdout",
          "output_type": "stream",
          "text": [
            "Cross Validation Score: 0.997\n",
            "                  precision    recall  f1-score   support\n",
            "\n",
            "Extremely Severe     1.0000    1.0000    1.0000      1538\n",
            "            Mild     1.0000    1.0000    1.0000       535\n",
            "        Moderate     0.9980    1.0000    0.9990      1005\n",
            "          Normal     1.0000    1.0000    1.0000      1315\n",
            "          Severe     1.0000    0.9977    0.9989       876\n",
            "\n",
            "        accuracy                         0.9996      5269\n",
            "       macro avg     0.9996    0.9995    0.9996      5269\n",
            "    weighted avg     0.9996    0.9996    0.9996      5269\n",
            "\n"
          ]
        },
        {
          "name": "stderr",
          "output_type": "stream",
          "text": [
            "c:\\Users\\User\\AppData\\Local\\Programs\\Python\\Python310\\lib\\site-packages\\sklearn\\utils\\deprecation.py:87: FutureWarning: Function plot_confusion_matrix is deprecated; Function `plot_confusion_matrix` is deprecated in 1.0 and will be removed in 1.2. Use one of the class methods: ConfusionMatrixDisplay.from_predictions or ConfusionMatrixDisplay.from_estimator.\n",
            "  warnings.warn(msg, category=FutureWarning)\n"
          ]
        },
        {
          "data": {
            "text/plain": [
              "<sklearn.metrics._plot.confusion_matrix.ConfusionMatrixDisplay at 0x26688802440>"
            ]
          },
          "execution_count": 246,
          "metadata": {},
          "output_type": "execute_result"
        },
        {
          "data": {
            "image/png": "[encoded data removed]",
            "text/plain": [
              "<Figure size 720x720 with 2 Axes>"
            ]
          },
          "metadata": {
            "needs_background": "light"
          },
          "output_type": "display_data"
        }
      ],
      "source": [
        "from sklearn.svm import SVC\n",
        "svm=SVC(C=100,gamma=0.1,kernel='rbf').fit(X_train_scaled,y_train)\n",
        "Acc_svm=round(accuracy_score(y_test,svm.predict(X_test_scaled)),3)\n",
        "f1_svm=round(f1_score(y_test,svm.predict(X_test_scaled),average='weighted'),3)\n",
        "recall_svm=round(recall_score(y_test,svm.predict(X_test_scaled),average='weighted'),3)\n",
        "precision_svm=round(precision_score(y_test,svm.predict(X_test_scaled),average='weighted'),3)\n",
        "print('Accuracy:',Acc_svm)\n",
        "print('F1_Score:',f1_svm)\n",
        "print('Recall_Score:',recall_svm)\n",
        "print('Precision_Score:',precision_svm)\n",
        "print('Cross Validation Score:',round(np.mean(cross_val_score(svm, X_train_scaled, y_train, cv = 6)),3))\n",
        "classification=classification_report(\n",
        "    digits=4,\n",
        "    y_true=y_test,\n",
        "    y_pred=svm.predict(X_test_scaled))\n",
        "print(classification)\n",
        "fig, ax = plt.subplots(figsize=(10, 10))\n",
        "plot_confusion_matrix(svm,X_test_scaled,y_test,ax=ax)"
      ]
    },
    {
      "cell_type": "code",
      "execution_count": 247,
      "metadata": {},
      "outputs": [],
      "source": [
        "Result={\n",
        "                  'Model':['Random-Forest','Decision-Tree','GaussianNB','Nearest-Neighbors','SVM'],\n",
        "                  'Accuracy(%)':[Acc_ran*100,Acc_dt*100,Acc_gb*100,Acc_knn*100,Acc_svm*100],\n",
        "                  'F1_Score(%)':[f1_ran*100,f1_dt*100,f1_gb*100,f1_knn*100,f1_svm*100],\n",
        "                  'Precision(%)':[precision_ran*100,precision_dt*100,precision_gb*100,precision_knn*100,precision_svm*100],\n",
        "                  'Recall(%)':[recall_ran*100,recall_dt*100,recall_gb*100,recall_knn*100,recall_svm*100],\n",
        "                    }\n",
        "Result_Depression=pd.DataFrame(Result)"
      ]
    },
    {
      "cell_type": "markdown",
      "metadata": {},
      "source": [
        "# Results Achieved from above Modellings"
      ]
    },
    {
      "cell_type": "code",
      "execution_count": 248,
      "metadata": {},
      "outputs": [
        {
          "data": {
            "text/html": [
              "<div>\n",
              "<style scoped>\n",
              "    .dataframe tbody tr th:only-of-type {\n",
              "        vertical-align: middle;\n",
              "    }\n",
              "\n",
              "    .dataframe tbody tr th {\n",
              "        vertical-align: top;\n",
              "    }\n",
              "\n",
              "    .dataframe thead th {\n",
              "        text-align: right;\n",
              "    }\n",
              "</style>\n",
              "<table border=\"1\" class=\"dataframe\">\n",
              "  <thead>\n",
              "    <tr style=\"text-align: right;\">\n",
              "      <th></th>\n",
              "      <th>Model</th>\n",
              "      <th>Accuracy(%)</th>\n",
              "      <th>F1_Score(%)</th>\n",
              "      <th>Precision(%)</th>\n",
              "      <th>Recall(%)</th>\n",
              "    </tr>\n",
              "  </thead>\n",
              "  <tbody>\n",
              "    <tr>\n",
              "      <th>0</th>\n",
              "      <td>Random-Forest</td>\n",
              "      <td>91.9</td>\n",
              "      <td>91.5</td>\n",
              "      <td>91.8</td>\n",
              "      <td>91.9</td>\n",
              "    </tr>\n",
              "    <tr>\n",
              "      <th>1</th>\n",
              "      <td>Decision-Tree</td>\n",
              "      <td>77.2</td>\n",
              "      <td>77.3</td>\n",
              "      <td>77.5</td>\n",
              "      <td>77.2</td>\n",
              "    </tr>\n",
              "    <tr>\n",
              "      <th>2</th>\n",
              "      <td>GaussianNB</td>\n",
              "      <td>87.9</td>\n",
              "      <td>88.4</td>\n",
              "      <td>90.0</td>\n",
              "      <td>87.9</td>\n",
              "    </tr>\n",
              "    <tr>\n",
              "      <th>3</th>\n",
              "      <td>Nearest-Neighbors</td>\n",
              "      <td>85.8</td>\n",
              "      <td>84.8</td>\n",
              "      <td>86.0</td>\n",
              "      <td>85.8</td>\n",
              "    </tr>\n",
              "    <tr>\n",
              "      <th>4</th>\n",
              "      <td>SVM</td>\n",
              "      <td>100.0</td>\n",
              "      <td>100.0</td>\n",
              "      <td>100.0</td>\n",
              "      <td>100.0</td>\n",
              "    </tr>\n",
              "  </tbody>\n",
              "</table>\n",
              "</div>"
            ],
            "text/plain": [
              "               Model  Accuracy(%)  F1_Score(%)  Precision(%)  Recall(%)\n",
              "0      Random-Forest         91.9         91.5          91.8       91.9\n",
              "1      Decision-Tree         77.2         77.3          77.5       77.2\n",
              "2         GaussianNB         87.9         88.4          90.0       87.9\n",
              "3  Nearest-Neighbors         85.8         84.8          86.0       85.8\n",
              "4                SVM        100.0        100.0         100.0      100.0"
            ]
          },
          "execution_count": 248,
          "metadata": {},
          "output_type": "execute_result"
        }
      ],
      "source": [
        "Result_Depression"
      ]
    },
    {
      "cell_type": "code",
      "execution_count": 249,
      "metadata": {},
      "outputs": [
        {
          "data": {
            "image/png": "[encoded data removed]",
            "text/plain": [
              "<Figure size 1080x720 with 1 Axes>"
            ]
          },
          "metadata": {
            "needs_background": "light"
          },
          "output_type": "display_data"
        }
      ],
      "source": [
        "splot=Result_Depression.plot(x='Model',y=['Accuracy(%)','F1_Score(%)','Precision(%)','Recall(%)'],kind='bar',figsize=(15,10),cmap='Spectral',width=0.9)\n",
        "for p in splot.patches:\n",
        "    splot.annotate(format(round(p.get_height()), '.0f'),\n",
        "                   (p.get_x() + p.get_width() / 2., p.get_height()),\n",
        "                   ha='center', va='center',\n",
        "                   xytext=(0,7),\n",
        "                   textcoords='offset points')\n",
        "plt.title('Evaluation Scores For Depression Data for various Models')\n",
        "plt.ylabel('Percentage')\n",
        "plt.xlabel('Models')\n",
        "plt.legend(loc='upper left')\n",
        "for pos in ['right', 'top', 'bottom', 'left']:\n",
        "    plt.gca().spines[pos].set_visible(False)\n",
        "plt.show()"
      ]
    }
  ],
  "metadata": {
    "colab": {
      "collapsed_sections": [],
      "include_colab_link": true,
      "name": "ML Hackathon.ipynb",
      "provenance": []
    },
    "interpreter": {
      "hash": "afb734500600fd355917ca529030176ea0ca205570884b88f2f6f7d791fd3fbe"
    },
    "kernelspec": {
      "display_name": "Python 3.10.4 64-bit",
      "language": "python",
      "name": "python3"
    },
    "language_info": {
      "codemirror_mode": {
        "name": "ipython",
        "version": 3
      },
      "file_extension": ".py",
      "mimetype": "text/x-python",
      "name": "python",
      "nbconvert_exporter": "python",
      "pygments_lexer": "ipython3",
      "version": "3.10.4"
    }
  },
  "nbformat": 4,
  "nbformat_minor": 0
}
