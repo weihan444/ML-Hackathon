{
  "nbformat": 4,
  "nbformat_minor": 0,
  "metadata": {
    "colab": {
      "name": "ML Hackathon.ipynb",
      "provenance": [],
      "collapsed_sections": [],
      "authorship_tag": "ABX9TyPWOi+KFtpKnkoablNr0/Cj",
      "include_colab_link": true
    },
    "kernelspec": {
      "name": "python3",
      "display_name": "Python 3"
    },
    "language_info": {
      "name": "python"
    }
  },
  "cells": [
    {
      "cell_type": "markdown",
      "metadata": {
        "id": "view-in-github",
        "colab_type": "text"
      },
      "source": [
        "<a href=\"https://colab.research.google.com/github/weihan444/ML-Hackathon/blob/main/ML_Hackathon.ipynb\" target=\"_parent\"><img src=\"https://colab.research.google.com/assets/colab-badge.svg\" alt=\"Open In Colab\"/></a>"
      ]
    },
    {
      "cell_type": "markdown",
      "source": [
        "Import required libraries"
      ],
      "metadata": {
        "id": "yU3uFR_00qeS"
      }
    },
    {
      "cell_type": "code",
      "source": [
        "import tensorflow as tf\n",
        "from tensorflow import keras\n",
        "import numpy as np\n",
        "import matplotlib.pyplot as plt\n",
        "import pandas as pd"
      ],
      "metadata": {
        "id": "ey1mU1rC0s78"
      },
      "execution_count": 3,
      "outputs": []
    },
    {
      "cell_type": "markdown",
      "source": [
        "Data Processing"
      ],
      "metadata": {
        "id": "g7P2tiAp6uob"
      }
    },
    {
      "cell_type": "code",
      "source": [
        "data_url = \"https://raw.githubusercontent.com/weihan444/ML-Hackathon/main/ML%20Dataset.csv\"\n",
        "data = pd.read_csv(data_url)\n",
        "\n",
        "print(data)"
      ],
      "metadata": {
        "colab": {
          "base_uri": "https://localhost:8080/"
        },
        "id": "vOZq871M6y7_",
        "outputId": "dc77a1cb-b0d7-41d7-814c-c7ea09a381e6"
      },
      "execution_count": 5,
      "outputs": [
        {
          "output_type": "stream",
          "name": "stdout",
          "text": [
            "     Code  Age_Numerical  Gender  Marital  Marital_problems  Religion_binary  \\\n",
            "0       1             34       0        0                 0                1   \n",
            "1       2             32       1        0                 0                1   \n",
            "2       3             33       0        0                 0                1   \n",
            "3       4             33       1        0                 1                1   \n",
            "4       5             39       1        0                 0                1   \n",
            "..    ...            ...     ...      ...               ...              ...   \n",
            "311   312             23       1        1                 0                0   \n",
            "312   313             36       0        1                 0                0   \n",
            "313   314             33       0        0                 0                0   \n",
            "314   315             25       1        1                 0                1   \n",
            "315   316             23       1        1                 0                1   \n",
            "\n",
            "     Religion_help  Med_or_not  Expenses  Monthly_expenses  ...  \\\n",
            "0                1           1         2                 1  ...   \n",
            "1                1           1         1                 0  ...   \n",
            "2                1           1         1                 0  ...   \n",
            "3                1           1         2                 1  ...   \n",
            "4                1           1         2                 1  ...   \n",
            "..             ...         ...       ...               ...  ...   \n",
            "311              1           1         2                 1  ...   \n",
            "312              0           0         2                 1  ...   \n",
            "313              0           1         2                 1  ...   \n",
            "314              0           1         0                 0  ...   \n",
            "315              1           1         0                 0  ...   \n",
            "\n",
            "     DASS_stress_numerical  MSPSS_family  MSPSS_friends  \\\n",
            "0                        0          27.2           24.0   \n",
            "1                        2          28.0           28.0   \n",
            "2                        0          28.0           28.0   \n",
            "3                       18          25.2           21.2   \n",
            "4                        2          26.0           20.0   \n",
            "..                     ...           ...            ...   \n",
            "311                      8          25.2           25.2   \n",
            "312                      0          23.2           20.0   \n",
            "313                      0          25.2           19.2   \n",
            "314                     26          14.0           13.2   \n",
            "315                      6          16.0           16.0   \n",
            "\n",
            "     MSPSS_significant_others  DASS_depression_binary  \\\n",
            "0                        26.0                       0   \n",
            "1                        28.0                       0   \n",
            "2                        28.0                       0   \n",
            "3                        24.0                       1   \n",
            "4                        28.0                       0   \n",
            "..                        ...                     ...   \n",
            "311                      27.2                       0   \n",
            "312                      24.0                       0   \n",
            "313                      27.2                       0   \n",
            "314                      13.2                       1   \n",
            "315                      17.2                       0   \n",
            "\n",
            "     DASS_depression_severity  DASS_anxiety_binary  DASS_anxiety_severity  \\\n",
            "0                           0                    0                      0   \n",
            "1                           0                    0                      0   \n",
            "2                           0                    0                      0   \n",
            "3                           2                    1                      4   \n",
            "4                           0                    0                      0   \n",
            "..                        ...                  ...                    ...   \n",
            "311                         0                    0                      0   \n",
            "312                         0                    0                      0   \n",
            "313                         0                    0                      0   \n",
            "314                         4                    1                      2   \n",
            "315                         0                    0                      0   \n",
            "\n",
            "     DASS_stress_binary  DASS_stress_severity  \n",
            "0                     0                     0  \n",
            "1                     0                     0  \n",
            "2                     0                     0  \n",
            "3                     1                     1  \n",
            "4                     0                     0  \n",
            "..                  ...                   ...  \n",
            "311                   0                     0  \n",
            "312                   0                     0  \n",
            "313                   0                     0  \n",
            "314                   1                     2  \n",
            "315                   0                     0  \n",
            "\n",
            "[316 rows x 34 columns]\n"
          ]
        }
      ]
    }
  ]
}