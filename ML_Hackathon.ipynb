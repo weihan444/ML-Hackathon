{
  "cells": [
    {
      "cell_type": "markdown",
      "metadata": {
        "id": "view-in-github",
        "colab_type": "text"
      },
      "source": [
        "<a href=\"https://colab.research.google.com/github/weihan444/ML-Hackathon/blob/PW-testing/ML_Hackathon.ipynb\" target=\"_parent\"><img src=\"https://colab.research.google.com/assets/colab-badge.svg\" alt=\"Open In Colab\"/></a>"
      ]
    },
    {
      "cell_type": "markdown",
      "metadata": {
        "id": "yU3uFR_00qeS"
      },
      "source": [
        "# Import required libraries"
      ]
    },
    {
      "cell_type": "code",
      "execution_count": 2,
      "metadata": {
        "id": "ey1mU1rC0s78"
      },
      "outputs": [],
      "source": [
        "import tensorflow as tf\n",
        "from tensorflow import keras\n",
        "import numpy as np\n",
        "import matplotlib.pyplot as plt\n",
        "import pandas as pd\n",
        "from sklearn.preprocessing import StandardScaler\n",
        "from sklearn.model_selection import train_test_split"
      ]
    },
    {
      "cell_type": "markdown",
      "metadata": {
        "id": "g7P2tiAp6uob"
      },
      "source": [
        "# Data Preprocessing"
      ]
    },
    {
      "cell_type": "code",
      "execution_count": 3,
      "metadata": {
        "colab": {
          "base_uri": "https://localhost:8080/",
          "height": 299
        },
        "id": "vOZq871M6y7_",
        "outputId": "e4470849-2001-4a3a-a710-3c03eec7c5ce"
      },
      "outputs": [
        {
          "output_type": "execute_result",
          "data": {
            "text/plain": [
              "   Code  Age_Numerical  Gender  Marital  Marital_problems  Religion_binary  \\\n",
              "0     1             34       0        0                 0                1   \n",
              "1     2             32       1        0                 0                1   \n",
              "2     3             33       0        0                 0                1   \n",
              "3     4             33       1        0                 1                1   \n",
              "4     5             39       1        0                 0                1   \n",
              "\n",
              "   Religion_help  Med_or_not  Expenses  Monthly_expenses  ...  \\\n",
              "0              1           1         2                 1  ...   \n",
              "1              1           1         1                 0  ...   \n",
              "2              1           1         1                 0  ...   \n",
              "3              1           1         2                 1  ...   \n",
              "4              1           1         2                 1  ...   \n",
              "\n",
              "   DASS_stress_numerical  MSPSS_family  MSPSS_friends  \\\n",
              "0                      0          27.2           24.0   \n",
              "1                      2          28.0           28.0   \n",
              "2                      0          28.0           28.0   \n",
              "3                     18          25.2           21.2   \n",
              "4                      2          26.0           20.0   \n",
              "\n",
              "   MSPSS_significant_others  DASS_depression_binary  DASS_depression_severity  \\\n",
              "0                      26.0                       0                         0   \n",
              "1                      28.0                       0                         0   \n",
              "2                      28.0                       0                         0   \n",
              "3                      24.0                       1                         2   \n",
              "4                      28.0                       0                         0   \n",
              "\n",
              "   DASS_anxiety_binary  DASS_anxiety_severity  DASS_stress_binary  \\\n",
              "0                    0                      0                   0   \n",
              "1                    0                      0                   0   \n",
              "2                    0                      0                   0   \n",
              "3                    1                      4                   1   \n",
              "4                    0                      0                   0   \n",
              "\n",
              "   DASS_stress_severity  \n",
              "0                     0  \n",
              "1                     0  \n",
              "2                     0  \n",
              "3                     1  \n",
              "4                     0  \n",
              "\n",
              "[5 rows x 34 columns]"
            ],
            "text/html": [
              "\n",
              "  <div id=\"df-3863c2c0-833b-4af8-929d-b7faa5b6a53a\">\n",
              "    <div class=\"colab-df-container\">\n",
              "      <div>\n",
              "<style scoped>\n",
              "    .dataframe tbody tr th:only-of-type {\n",
              "        vertical-align: middle;\n",
              "    }\n",
              "\n",
              "    .dataframe tbody tr th {\n",
              "        vertical-align: top;\n",
              "    }\n",
              "\n",
              "    .dataframe thead th {\n",
              "        text-align: right;\n",
              "    }\n",
              "</style>\n",
              "<table border=\"1\" class=\"dataframe\">\n",
              "  <thead>\n",
              "    <tr style=\"text-align: right;\">\n",
              "      <th></th>\n",
              "      <th>Code</th>\n",
              "      <th>Age_Numerical</th>\n",
              "      <th>Gender</th>\n",
              "      <th>Marital</th>\n",
              "      <th>Marital_problems</th>\n",
              "      <th>Religion_binary</th>\n",
              "      <th>Religion_help</th>\n",
              "      <th>Med_or_not</th>\n",
              "      <th>Expenses</th>\n",
              "      <th>Monthly_expenses</th>\n",
              "      <th>...</th>\n",
              "      <th>DASS_stress_numerical</th>\n",
              "      <th>MSPSS_family</th>\n",
              "      <th>MSPSS_friends</th>\n",
              "      <th>MSPSS_significant_others</th>\n",
              "      <th>DASS_depression_binary</th>\n",
              "      <th>DASS_depression_severity</th>\n",
              "      <th>DASS_anxiety_binary</th>\n",
              "      <th>DASS_anxiety_severity</th>\n",
              "      <th>DASS_stress_binary</th>\n",
              "      <th>DASS_stress_severity</th>\n",
              "    </tr>\n",
              "  </thead>\n",
              "  <tbody>\n",
              "    <tr>\n",
              "      <th>0</th>\n",
              "      <td>1</td>\n",
              "      <td>34</td>\n",
              "      <td>0</td>\n",
              "      <td>0</td>\n",
              "      <td>0</td>\n",
              "      <td>1</td>\n",
              "      <td>1</td>\n",
              "      <td>1</td>\n",
              "      <td>2</td>\n",
              "      <td>1</td>\n",
              "      <td>...</td>\n",
              "      <td>0</td>\n",
              "      <td>27.2</td>\n",
              "      <td>24.0</td>\n",
              "      <td>26.0</td>\n",
              "      <td>0</td>\n",
              "      <td>0</td>\n",
              "      <td>0</td>\n",
              "      <td>0</td>\n",
              "      <td>0</td>\n",
              "      <td>0</td>\n",
              "    </tr>\n",
              "    <tr>\n",
              "      <th>1</th>\n",
              "      <td>2</td>\n",
              "      <td>32</td>\n",
              "      <td>1</td>\n",
              "      <td>0</td>\n",
              "      <td>0</td>\n",
              "      <td>1</td>\n",
              "      <td>1</td>\n",
              "      <td>1</td>\n",
              "      <td>1</td>\n",
              "      <td>0</td>\n",
              "      <td>...</td>\n",
              "      <td>2</td>\n",
              "      <td>28.0</td>\n",
              "      <td>28.0</td>\n",
              "      <td>28.0</td>\n",
              "      <td>0</td>\n",
              "      <td>0</td>\n",
              "      <td>0</td>\n",
              "      <td>0</td>\n",
              "      <td>0</td>\n",
              "      <td>0</td>\n",
              "    </tr>\n",
              "    <tr>\n",
              "      <th>2</th>\n",
              "      <td>3</td>\n",
              "      <td>33</td>\n",
              "      <td>0</td>\n",
              "      <td>0</td>\n",
              "      <td>0</td>\n",
              "      <td>1</td>\n",
              "      <td>1</td>\n",
              "      <td>1</td>\n",
              "      <td>1</td>\n",
              "      <td>0</td>\n",
              "      <td>...</td>\n",
              "      <td>0</td>\n",
              "      <td>28.0</td>\n",
              "      <td>28.0</td>\n",
              "      <td>28.0</td>\n",
              "      <td>0</td>\n",
              "      <td>0</td>\n",
              "      <td>0</td>\n",
              "      <td>0</td>\n",
              "      <td>0</td>\n",
              "      <td>0</td>\n",
              "    </tr>\n",
              "    <tr>\n",
              "      <th>3</th>\n",
              "      <td>4</td>\n",
              "      <td>33</td>\n",
              "      <td>1</td>\n",
              "      <td>0</td>\n",
              "      <td>1</td>\n",
              "      <td>1</td>\n",
              "      <td>1</td>\n",
              "      <td>1</td>\n",
              "      <td>2</td>\n",
              "      <td>1</td>\n",
              "      <td>...</td>\n",
              "      <td>18</td>\n",
              "      <td>25.2</td>\n",
              "      <td>21.2</td>\n",
              "      <td>24.0</td>\n",
              "      <td>1</td>\n",
              "      <td>2</td>\n",
              "      <td>1</td>\n",
              "      <td>4</td>\n",
              "      <td>1</td>\n",
              "      <td>1</td>\n",
              "    </tr>\n",
              "    <tr>\n",
              "      <th>4</th>\n",
              "      <td>5</td>\n",
              "      <td>39</td>\n",
              "      <td>1</td>\n",
              "      <td>0</td>\n",
              "      <td>0</td>\n",
              "      <td>1</td>\n",
              "      <td>1</td>\n",
              "      <td>1</td>\n",
              "      <td>2</td>\n",
              "      <td>1</td>\n",
              "      <td>...</td>\n",
              "      <td>2</td>\n",
              "      <td>26.0</td>\n",
              "      <td>20.0</td>\n",
              "      <td>28.0</td>\n",
              "      <td>0</td>\n",
              "      <td>0</td>\n",
              "      <td>0</td>\n",
              "      <td>0</td>\n",
              "      <td>0</td>\n",
              "      <td>0</td>\n",
              "    </tr>\n",
              "  </tbody>\n",
              "</table>\n",
              "<p>5 rows × 34 columns</p>\n",
              "</div>\n",
              "      <button class=\"colab-df-convert\" onclick=\"convertToInteractive('df-3863c2c0-833b-4af8-929d-b7faa5b6a53a')\"\n",
              "              title=\"Convert this dataframe to an interactive table.\"\n",
              "              style=\"display:none;\">\n",
              "        \n",
              "  <svg xmlns=\"http://www.w3.org/2000/svg\" height=\"24px\"viewBox=\"0 0 24 24\"\n",
              "       width=\"24px\">\n",
              "    <path d=\"M0 0h24v24H0V0z\" fill=\"none\"/>\n",
              "    <path d=\"M18.56 5.44l.94 2.06.94-2.06 2.06-.94-2.06-.94-.94-2.06-.94 2.06-2.06.94zm-11 1L8.5 8.5l.94-2.06 2.06-.94-2.06-.94L8.5 2.5l-.94 2.06-2.06.94zm10 10l.94 2.06.94-2.06 2.06-.94-2.06-.94-.94-2.06-.94 2.06-2.06.94z\"/><path d=\"M17.41 7.96l-1.37-1.37c-.4-.4-.92-.59-1.43-.59-.52 0-1.04.2-1.43.59L10.3 9.45l-7.72 7.72c-.78.78-.78 2.05 0 2.83L4 21.41c.39.39.9.59 1.41.59.51 0 1.02-.2 1.41-.59l7.78-7.78 2.81-2.81c.8-.78.8-2.07 0-2.86zM5.41 20L4 18.59l7.72-7.72 1.47 1.35L5.41 20z\"/>\n",
              "  </svg>\n",
              "      </button>\n",
              "      \n",
              "  <style>\n",
              "    .colab-df-container {\n",
              "      display:flex;\n",
              "      flex-wrap:wrap;\n",
              "      gap: 12px;\n",
              "    }\n",
              "\n",
              "    .colab-df-convert {\n",
              "      background-color: #E8F0FE;\n",
              "      border: none;\n",
              "      border-radius: 50%;\n",
              "      cursor: pointer;\n",
              "      display: none;\n",
              "      fill: #1967D2;\n",
              "      height: 32px;\n",
              "      padding: 0 0 0 0;\n",
              "      width: 32px;\n",
              "    }\n",
              "\n",
              "    .colab-df-convert:hover {\n",
              "      background-color: #E2EBFA;\n",
              "      box-shadow: 0px 1px 2px rgba(60, 64, 67, 0.3), 0px 1px 3px 1px rgba(60, 64, 67, 0.15);\n",
              "      fill: #174EA6;\n",
              "    }\n",
              "\n",
              "    [theme=dark] .colab-df-convert {\n",
              "      background-color: #3B4455;\n",
              "      fill: #D2E3FC;\n",
              "    }\n",
              "\n",
              "    [theme=dark] .colab-df-convert:hover {\n",
              "      background-color: #434B5C;\n",
              "      box-shadow: 0px 1px 3px 1px rgba(0, 0, 0, 0.15);\n",
              "      filter: drop-shadow(0px 1px 2px rgba(0, 0, 0, 0.3));\n",
              "      fill: #FFFFFF;\n",
              "    }\n",
              "  </style>\n",
              "\n",
              "      <script>\n",
              "        const buttonEl =\n",
              "          document.querySelector('#df-3863c2c0-833b-4af8-929d-b7faa5b6a53a button.colab-df-convert');\n",
              "        buttonEl.style.display =\n",
              "          google.colab.kernel.accessAllowed ? 'block' : 'none';\n",
              "\n",
              "        async function convertToInteractive(key) {\n",
              "          const element = document.querySelector('#df-3863c2c0-833b-4af8-929d-b7faa5b6a53a');\n",
              "          const dataTable =\n",
              "            await google.colab.kernel.invokeFunction('convertToInteractive',\n",
              "                                                     [key], {});\n",
              "          if (!dataTable) return;\n",
              "\n",
              "          const docLinkHtml = 'Like what you see? Visit the ' +\n",
              "            '<a target=\"_blank\" href=https://colab.research.google.com/notebooks/data_table.ipynb>data table notebook</a>'\n",
              "            + ' to learn more about interactive tables.';\n",
              "          element.innerHTML = '';\n",
              "          dataTable['output_type'] = 'display_data';\n",
              "          await google.colab.output.renderOutput(dataTable, element);\n",
              "          const docLink = document.createElement('div');\n",
              "          docLink.innerHTML = docLinkHtml;\n",
              "          element.appendChild(docLink);\n",
              "        }\n",
              "      </script>\n",
              "    </div>\n",
              "  </div>\n",
              "  "
            ]
          },
          "metadata": {},
          "execution_count": 3
        }
      ],
      "source": [
        "data_url = \"https://raw.githubusercontent.com/weihan444/ML-Hackathon/main/ML%20Dataset.csv\"\n",
        "data = pd.read_csv(data_url, header=0)\n",
        "\n",
        "data.head(5)"
      ]
    },
    {
      "cell_type": "markdown",
      "metadata": {
        "id": "desgNpDZ-cOb"
      },
      "source": [
        "# Feature Engineering\n",
        "Selecting data\n"
      ]
    },
    {
      "cell_type": "code",
      "execution_count": 4,
      "metadata": {
        "id": "NGKRyuBV-glj"
      },
      "outputs": [],
      "source": [
        "selected_data = data[[\"Age_Numerical\", \"Gender\", \"Routine_loss\", \"Class_hours\", \"Medical_illness\", \"Mental_illness\", \"COVID_symptoms\", \"Quarantine\", \"DASS_depression_severity\"]]\n",
        "\n",
        "selected_data.head(5)\n",
        "\n",
        "X = selected_data.drop(['DASS_depression_severity'], axis=1)\n",
        "y = selected_data['DASS_depression_severity']\n",
        "\n",
        "# Split y into multi-class array\n",
        "y = keras.utils.to_categorical(y)"
      ]
    },
    {
      "cell_type": "markdown",
      "metadata": {
        "id": "HgwnnaTniAM7"
      },
      "source": [
        "Split into train and test"
      ]
    },
    {
      "cell_type": "code",
      "execution_count": 7,
      "metadata": {
        "id": "rvZeTHcziAM8"
      },
      "outputs": [],
      "source": [
        "X_train, X_test, y_train, y_test = train_test_split(X, y, test_size=0.25, random_state=80)"
      ]
    },
    {
      "cell_type": "markdown",
      "metadata": {
        "id": "LretxXS4iAM9"
      },
      "source": [
        "# Feature Scaling\n",
        "Standardize Data"
      ]
    },
    {
      "cell_type": "code",
      "execution_count": 10,
      "metadata": {
        "id": "jvDXizAziAM9"
      },
      "outputs": [],
      "source": [
        "stand = StandardScaler().fit(X_train)\n",
        "\n",
        "X_train_stand = stand.transform(X_train)\n",
        "X_test_stand = stand.transform(X_test)\n",
        "\n",
        "\n",
        "\n"
      ]
    },
    {
      "cell_type": "markdown",
      "source": [
        ""
      ],
      "metadata": {
        "id": "doonAYfskbOw"
      }
    },
    {
      "cell_type": "markdown",
      "source": [
        "# Model Training\n"
      ],
      "metadata": {
        "id": "cTmo5uepiI7P"
      }
    },
    {
      "cell_type": "code",
      "source": [
        "model = keras.Sequential()\n",
        "model.add(keras.layers.Dense(64, activation='relu'))\n",
        "model.add(keras.layers.Dense(5, activation='softmax'))\n",
        "model.compile(optimizer='adam', loss='categorical_crossentropy', metrics=['accuracy'])\n",
        "history = model.fit(\n",
        "    X_train_stand, y_train,\n",
        "    validation_split=0.2,\n",
        "    epochs=6)\n",
        "model.evaluate(X_test_stand, y_test)"
      ],
      "metadata": {
        "id": "jZec4R53iMDW",
        "outputId": "3b3bca81-eff4-4dbf-b9ae-28d3942b1b52",
        "colab": {
          "base_uri": "https://localhost:8080/"
        }
      },
      "execution_count": 18,
      "outputs": [
        {
          "output_type": "stream",
          "name": "stdout",
          "text": [
            "Epoch 1/6\n",
            "6/6 [==============================] - 1s 34ms/step - loss: 1.6576 - accuracy: 0.1958 - val_loss: 1.5218 - val_accuracy: 0.4583\n",
            "Epoch 2/6\n",
            "6/6 [==============================] - 0s 7ms/step - loss: 1.5711 - accuracy: 0.2963 - val_loss: 1.4603 - val_accuracy: 0.4583\n",
            "Epoch 3/6\n",
            "6/6 [==============================] - 0s 7ms/step - loss: 1.4957 - accuracy: 0.3862 - val_loss: 1.4056 - val_accuracy: 0.5833\n",
            "Epoch 4/6\n",
            "6/6 [==============================] - 0s 8ms/step - loss: 1.4268 - accuracy: 0.4762 - val_loss: 1.3566 - val_accuracy: 0.6042\n",
            "Epoch 5/6\n",
            "6/6 [==============================] - 0s 10ms/step - loss: 1.3684 - accuracy: 0.5556 - val_loss: 1.3148 - val_accuracy: 0.5833\n",
            "Epoch 6/6\n",
            "6/6 [==============================] - 0s 8ms/step - loss: 1.3182 - accuracy: 0.5979 - val_loss: 1.2789 - val_accuracy: 0.6042\n",
            "3/3 [==============================] - 0s 5ms/step - loss: 1.2683 - accuracy: 0.6456\n"
          ]
        },
        {
          "output_type": "execute_result",
          "data": {
            "text/plain": [
              "[1.2683082818984985, 0.6455696225166321]"
            ]
          },
          "metadata": {},
          "execution_count": 18
        }
      ]
    },
    {
      "cell_type": "code",
      "source": [
        "history_df = pd.DataFrame(history.history)\n",
        "history_df.loc[0:,['loss','val_loss']].plot()"
      ],
      "metadata": {
        "id": "gvSHROI5IBG7",
        "outputId": "e7188337-52a4-4055-c8f8-47eae8671c8d",
        "colab": {
          "base_uri": "https://localhost:8080/",
          "height": 282
        }
      },
      "execution_count": 22,
      "outputs": [
        {
          "output_type": "execute_result",
          "data": {
            "text/plain": [
              "<matplotlib.axes._subplots.AxesSubplot at 0x7fcd97119bd0>"
            ]
          },
          "metadata": {},
          "execution_count": 22
        },
        {
          "output_type": "display_data",
          "data": {
            "text/plain": [
              "<Figure size 432x288 with 1 Axes>"
            ],
            "image/png": "[encoded data removed]"
          },
          "metadata": {
            "needs_background": "light"
          }
        }
      ]
    }
  ],
  "metadata": {
    "colab": {
      "collapsed_sections": [],
      "name": "ML Hackathon.ipynb",
      "provenance": [],
      "include_colab_link": true
    },
    "interpreter": {
      "hash": "afb734500600fd355917ca529030176ea0ca205570884b88f2f6f7d791fd3fbe"
    },
    "kernelspec": {
      "display_name": "Python 3.10.4 64-bit",
      "language": "python",
      "name": "python3"
    },
    "language_info": {
      "codemirror_mode": {
        "name": "ipython",
        "version": 3
      },
      "file_extension": ".py",
      "mimetype": "text/x-python",
      "name": "python",
      "nbconvert_exporter": "python",
      "pygments_lexer": "ipython3",
      "version": "3.10.4"
    }
  },
  "nbformat": 4,
  "nbformat_minor": 0
}